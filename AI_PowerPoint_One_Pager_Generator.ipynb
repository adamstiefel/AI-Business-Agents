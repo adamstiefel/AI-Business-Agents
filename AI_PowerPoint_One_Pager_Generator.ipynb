{
  "nbformat": 4,
  "nbformat_minor": 0,
  "metadata": {
    "colab": {
      "provenance": [],
      "authorship_tag": "ABX9TyM8vQlH0S3x0PcnPDcrBW6C",
      "include_colab_link": true
    },
    "kernelspec": {
      "name": "python3",
      "display_name": "Python 3"
    },
    "language_info": {
      "name": "python"
    }
  },
  "cells": [
    {
      "cell_type": "markdown",
      "metadata": {
        "id": "view-in-github",
        "colab_type": "text"
      },
      "source": [
        "<a href=\"https://colab.research.google.com/github/adamstiefel/AI-Business-Agents/blob/main/AI_PowerPoint_One_Pager_Generator.ipynb\" target=\"_parent\"><img src=\"https://colab.research.google.com/assets/colab-badge.svg\" alt=\"Open In Colab\"/></a>"
      ]
    },
    {
      "cell_type": "markdown",
      "source": [
        "# 🤖 AI PowerPoint One-Pager Generator 📄✨\n",
        "\n",
        "## Goal\n",
        "To take a user-defined topic, have an AI perform web research on it, synthesize the information, and then automatically generate a concise, well-structured, one-page PowerPoint (`.pptx`) summary that can be downloaded.\n",
        "\n",
        "## How this \"Makes Money\" (Delivers Business Value)\n",
        "\n",
        "* 🚀 **Drastically Accelerate Draft Creation:** Saves significant time and effort typically spent on initial research, content outlining, and basic slide formatting for presentations or summaries.\n",
        "* ⏱️ **Rapid Information Synthesis:** Quickly transforms broad topics or scattered information into a condensed, digestible one-page overview.\n",
        "* 📊 **Efficient Meeting & Briefing Preparation:** Generate instant pre-reads, executive summaries, or talking point slides for meetings and briefings.\n",
        "* 💡 **Content Curation & Ideation Kick-starter:** Acts as an intelligent assistant to gather, structure, and present initial information, which can then be refined for reports, articles, or further research.\n",
        "* 📢 **Quick Proposal & Idea Pitching:** Develop initial one-pagers to present ideas or proposals swiftly.\n",
        "* 🎓 **Learning & Topic Exploration Aid:** Provides a quick, structured summary for understanding the basics of a new topic.\n",
        "* 💪 **Focus Human Effort on Refinement:** Allows users to spend their time on higher-value tasks like in-depth analysis, strategic messaging, and visual polishing, rather than starting from scratch.\n",
        "\n",
        "---\n",
        "**Important Notes:**\n",
        "* The \"beauty\" of the PowerPoint will be focused on a clean, professional, and readable layout generated programmatically. Advanced custom designs would typically require templates or manual editing.\n",
        "* The quality of the research and content depends on publicly available information and the LLM's capabilities.\n",
        "* This tool generates a *first draft*. Human review and refinement are essential.\n",
        "* Directly \"viewing\" the `.pptx` in Colab is not natively supported; downloading the file is the primary method.\n",
        "---"
      ],
      "metadata": {
        "id": "X07GmPZJnnvX"
      }
    },
    {
      "cell_type": "code",
      "source": [
        "#@title 2. Setup and Installations\n",
        "# --- Install necessary libraries ---\n",
        "!pip install openai python-pptx requests beautifulsoup4 google-search-results -q\n",
        "\n",
        "import openai\n",
        "from pptx import Presentation\n",
        "from pptx.util import Inches, Pt\n",
        "from pptx.enum.text import PP_ALIGN\n",
        "from pptx.dml.color import RGBColor # For setting text color\n",
        "\n",
        "import requests\n",
        "from bs4 import BeautifulSoup\n",
        "import json\n",
        "import re\n",
        "from IPython.display import display, Markdown, HTML\n",
        "from google.colab import files as colab_files # For downloading the pptx\n",
        "from google.colab import userdata\n",
        "from serpapi import GoogleSearch\n",
        "\n",
        "print(\"Libraries installed/available and imported.\")"
      ],
      "metadata": {
        "colab": {
          "base_uri": "https://localhost:8080/"
        },
        "id": "bkEnw5M3no--",
        "outputId": "6e29e798-4db4-4a43-98a3-c875fd231dcf"
      },
      "execution_count": 1,
      "outputs": [
        {
          "output_type": "stream",
          "name": "stdout",
          "text": [
            "  Preparing metadata (setup.py) ... \u001b[?25l\u001b[?25hdone\n",
            "\u001b[2K   \u001b[90m━━━━━━━━━━━━━━━━━━━━━━━━━━━━━━━━━━━━━━━━\u001b[0m \u001b[32m472.8/472.8 kB\u001b[0m \u001b[31m6.2 MB/s\u001b[0m eta \u001b[36m0:00:00\u001b[0m\n",
            "\u001b[2K   \u001b[90m━━━━━━━━━━━━━━━━━━━━━━━━━━━━━━━━━━━━━━━━\u001b[0m \u001b[32m169.4/169.4 kB\u001b[0m \u001b[31m6.7 MB/s\u001b[0m eta \u001b[36m0:00:00\u001b[0m\n",
            "\u001b[?25h  Building wheel for google-search-results (setup.py) ... \u001b[?25l\u001b[?25hdone\n",
            "Libraries installed/available and imported.\n"
          ]
        }
      ]
    },
    {
      "cell_type": "code",
      "source": [
        "#@title 3. API Key Configuration\n",
        "# --- Configure your OpenAI API Key ---\n",
        "OPENAI_API_KEY = None\n",
        "try:\n",
        "    OPENAI_API_KEY = userdata.get('OPENAI_API_KEY')\n",
        "    if OPENAI_API_KEY:\n",
        "        openai.api_key = OPENAI_API_KEY\n",
        "        print(\"✅ OpenAI API Key loaded successfully from Colab Secrets.\")\n",
        "    else:\n",
        "        print(\"⚠️ OpenAI API Key not found in Colab Secrets. Please add it.\")\n",
        "except Exception as e:\n",
        "    print(f\"⚠️ Error accessing Colab Secrets for OpenAI: {e}.\")\n",
        "\n",
        "if not openai.api_key:\n",
        "    print(\"🛑 OpenAI API Key is NOT SET. LLM functionality will not work.\")\n",
        "\n",
        "# --- Configure your SerpApi API Key (for Google Search) ---\n",
        "SERPAPI_API_KEY = None\n",
        "try:\n",
        "    SERPAPI_API_KEY = userdata.get('SERPAPI_API_KEY')\n",
        "    if SERPAPI_API_KEY:\n",
        "        print(\"✅ SerpApi API Key loaded successfully from Colab Secrets.\")\n",
        "    else:\n",
        "        print(\"⚠️ SerpApi API Key not found in Colab Secrets. Google Search functionality will be limited.\")\n",
        "except Exception as e:\n",
        "    print(f\"⚠️ Error accessing Colab Secrets for SerpApi: {e}.\")\n",
        "\n",
        "if not SERPAPI_API_KEY:\n",
        "    print(\"🛑 SerpApi API Key is NOT SET. Google Search using SerpApi will not work effectively.\")"
      ],
      "metadata": {
        "colab": {
          "base_uri": "https://localhost:8080/"
        },
        "id": "OQdaOw7cnpGA",
        "outputId": "aa36d4b8-3266-40f3-8a7a-e0fffe1170e9"
      },
      "execution_count": 2,
      "outputs": [
        {
          "output_type": "stream",
          "name": "stdout",
          "text": [
            "✅ OpenAI API Key loaded successfully from Colab Secrets.\n",
            "✅ SerpApi API Key loaded successfully from Colab Secrets.\n"
          ]
        }
      ]
    },
    {
      "cell_type": "code",
      "source": [
        "#@title 4. User Input: Presentation Topic\n",
        "\n",
        "#@markdown Enter the topic for your one-page PowerPoint presentation:\n",
        "presentation_topic = \"The Future of Renewable Energy\" #@param {type:\"string\"}\n",
        "\n",
        "#@markdown (Optional) Specify any key aspects to focus on or particular points to include:\n",
        "#@markdown (e.g., \"Focus on solar and wind, include challenges and opportunities\")\n",
        "specific_focus_points = \"Key technologies, economic impact, and environmental benefits\" #@param {type:\"string\"}\n",
        "\n",
        "#@markdown (Optional) Define a target audience (e.g., \"general public\", \"investors\", \"students\"):\n",
        "#@markdown This helps the AI tailor the language and complexity.\n",
        "target_audience = \"University students\" #@param {type:\"string\"}\n",
        "\n",
        "\n",
        "if not presentation_topic or presentation_topic == \"e.g., The Impact of AI on Healthcare\": # Basic check for default\n",
        "    print(\"⚠️ Please enter a valid presentation topic.\")\n",
        "else:\n",
        "    print(f\"✅ Topic: {presentation_topic}\")\n",
        "    if specific_focus_points:\n",
        "        print(f\"   Focus: {specific_focus_points}\")\n",
        "    if target_audience:\n",
        "        print(f\"   Target Audience: {target_audience}\")"
      ],
      "metadata": {
        "colab": {
          "base_uri": "https://localhost:8080/"
        },
        "id": "Y1w4f6GLnpNl",
        "outputId": "6f1b1e7b-2ced-4029-f2e6-08818ac8f13b"
      },
      "execution_count": 3,
      "outputs": [
        {
          "output_type": "stream",
          "name": "stdout",
          "text": [
            "✅ Topic: The Future of Renewable Energy\n",
            "   Focus: Key technologies, economic impact, and environmental benefits\n",
            "   Target Audience: University students\n"
          ]
        }
      ]
    },
    {
      "cell_type": "code",
      "source": [
        "#@title 5. Information Gathering (Web Research)\n",
        "\n",
        "# --- Helper function to fetch and parse a single URL (basic) ---\n",
        "def fetch_url_content_for_ppt(url):\n",
        "    if not url or not url.startswith(('http://', 'https://')):\n",
        "        return None # Skip invalid URLs\n",
        "    try:\n",
        "        headers = {'User-Agent': 'Mozilla/5.0 (Windows NT 10.0; Win64; x64) AppleWebKit/537.36 (KHTML, like Gecko) Chrome/91.0.4472.124 Safari/537.36'}\n",
        "        response = requests.get(url, headers=headers, timeout=10)\n",
        "        response.raise_for_status()\n",
        "        soup = BeautifulSoup(response.text, 'html.parser')\n",
        "        for SCRIPT_OR_STYLE in soup([\"script\", \"style\", \"header\", \"footer\", \"nav\", \"aside\", \"form\", \"button\"]): SCRIPT_OR_STYLE.decompose()\n",
        "        text = soup.get_text(separator='\\n', strip=True)\n",
        "        text = re.sub(r'\\n\\s*\\n+', '\\n', text)\n",
        "        return text[:8000] # Limit content from a single page to keep total manageable\n",
        "    except Exception: # Catch all exceptions for fetching/parsing\n",
        "        return None\n",
        "\n",
        "# --- Gather information using Google Search (SerpApi) ---\n",
        "researched_text_corpus = \"\"\n",
        "search_log = \"## Research Log:\\n\\n\"\n",
        "\n",
        "if SERPAPI_API_KEY and presentation_topic and presentation_topic != \"e.g., The Impact of AI on Healthcare\":\n",
        "    print(f\"🔎 Researching topic: {presentation_topic} using SerpApi...\")\n",
        "\n",
        "    queries = [\n",
        "        f\"{presentation_topic} overview\",\n",
        "        f\"key aspects of {presentation_topic}\",\n",
        "        f\"introduction to {presentation_topic}\",\n",
        "        f\"benefits of {presentation_topic}\",\n",
        "        f\"challenges in {presentation_topic}\",\n",
        "        f\"future outlook {presentation_topic}\",\n",
        "    ]\n",
        "    if specific_focus_points:\n",
        "        queries.append(f\"{presentation_topic} focusing on {specific_focus_points}\")\n",
        "\n",
        "    all_fetched_content = []\n",
        "    urls_processed = set()\n",
        "\n",
        "    for query_idx, query in enumerate(queries[:5]): # Limit number of search queries\n",
        "        search_log += f\"**Query {query_idx+1}:** {query}\\n\"\n",
        "        print(f\"  Executing query: {query}\")\n",
        "        try:\n",
        "            params = {\"q\": query, \"api_key\": SERPAPI_API_KEY, \"num\": 3}\n",
        "            search = GoogleSearch(params)\n",
        "            results = search.get_dict()\n",
        "\n",
        "            organic_results = results.get(\"organic_results\", [])\n",
        "            if organic_results:\n",
        "                for res_idx, result in enumerate(organic_results[:2]): # Process top 2 results per query\n",
        "                    title = result.get(\"title\", \"No Title\")\n",
        "                    link = result.get(\"link\")\n",
        "                    snippet = result.get(\"snippet\", title)\n",
        "                    search_log += f\"  - Result: {title} ({link})\\n    Snippet: {snippet}\\n\"\n",
        "\n",
        "                    if link and link not in urls_processed:\n",
        "                        urls_processed.add(link)\n",
        "                        print(f\"    Fetching content from: {link}\")\n",
        "                        content = fetch_url_content_for_ppt(link)\n",
        "                        if content:\n",
        "                            all_fetched_content.append(f\"Source: {title} ({link})\\n\\n{content}\\n\\n---\\n\\n\")\n",
        "                            search_log += f\"    *Fetched content (length: {len(content)} chars)*\\n\"\n",
        "                        else:\n",
        "                            all_fetched_content.append(f\"Source: {title} ({link})\\n\\nSnippet: {snippet}\\n\\n---\\n\\n\") # Fallback to snippet if fetch fails\n",
        "                            search_log += f\"    *Failed to fetch full content, using snippet.*\\n\"\n",
        "                    elif link in urls_processed:\n",
        "                        search_log += f\"    *URL already processed.*\\n\"\n",
        "                    else: # No link, just use snippet\n",
        "                         all_fetched_content.append(f\"Source: {title}\\n\\nSnippet: {snippet}\\n\\n---\\n\\n\")\n",
        "            else:\n",
        "                search_log += \"  - No organic results.\\n\"\n",
        "        except Exception as e:\n",
        "            search_log += f\"  - Error during search: {str(e)[:200]}\\n\"\n",
        "        search_log += \"\\n\"\n",
        "\n",
        "    researched_text_corpus = \"\".join(all_fetched_content)\n",
        "\n",
        "    if not researched_text_corpus.strip():\n",
        "        researched_text_corpus = \"No detailed information could be gathered via automated search. The presentation will be very high-level or based on general knowledge if the LLM proceeds.\"\n",
        "        print(f\"⚠️ {researched_text_corpus}\")\n",
        "else:\n",
        "    error_msg = \"SerpApi API Key not set or topic not provided. Skipping web research.\"\n",
        "    researched_text_corpus = f\"Web research skipped: {error_msg}\"\n",
        "    search_log += error_msg\n",
        "    print(f\"🛑 {error_msg}\")\n",
        "\n",
        "print(\"\\n--- Research Log Summary ---\")\n",
        "display(Markdown(search_log[:2000] + \"... (log truncated for display)\")) # Display a portion of the log\n",
        "# print(\"\\n--- Full Researched Text Corpus (first 2000 chars for LLM input preview) ---\")\n",
        "# display(Markdown(\"```\\n\" + researched_text_corpus[:2000] + \"\\n```\"))"
      ],
      "metadata": {
        "colab": {
          "base_uri": "https://localhost:8080/",
          "height": 737
        },
        "id": "Z2aRxJx_npXd",
        "outputId": "4cd90038-8672-41a9-a60a-ab7039486d47"
      },
      "execution_count": 4,
      "outputs": [
        {
          "output_type": "stream",
          "name": "stdout",
          "text": [
            "🔎 Researching topic: The Future of Renewable Energy using SerpApi...\n",
            "  Executing query: The Future of Renewable Energy overview\n",
            "    Fetching content from: https://earth.org/the-growth-of-renewable-energy-what-does-the-future-hold/\n",
            "    Fetching content from: https://www.ibm.com/think/insights/renewable-energy-future\n",
            "  Executing query: key aspects of The Future of Renewable Energy\n",
            "  Executing query: introduction to The Future of Renewable Energy\n",
            "  Executing query: benefits of The Future of Renewable Energy\n",
            "    Fetching content from: https://www.un.org/en/climatechange/raising-ambition/renewable-energy\n",
            "    Fetching content from: https://www.energy.gov/eere/renewable-energy-pillar\n",
            "  Executing query: challenges in The Future of Renewable Energy\n",
            "    Fetching content from: https://iee.psu.edu/news/blog/transitioning-renewable-energy-challenges-and-opportunities\n",
            "    Fetching content from: https://regenpower.com/what-are-the-problems-faced-by-renewable-energy/\n",
            "\n",
            "--- Research Log Summary ---\n"
          ]
        },
        {
          "output_type": "display_data",
          "data": {
            "text/plain": [
              "<IPython.core.display.Markdown object>"
            ],
            "text/markdown": "## Research Log:\n\n**Query 1:** The Future of Renewable Energy overview\n  - Result: What the Future of Renewable Energy Looks Like (https://earth.org/the-growth-of-renewable-energy-what-does-the-future-hold/)\n    Snippet: 1. Solar Will Become 35% Cheaper By 2024 · 2. Onshore Wind Energy Capacity Will Increase 57% By 2024 · 3. Hydroelectric Capacity Will Rise 9% By ...\n    *Fetched content (length: 8000 chars)*\n  - Result: The Future of Renewable Energy (https://www.ibm.com/think/insights/renewable-energy-future)\n    Snippet: The next generation of clean energy needs innovative technology and power generation to help the world reach net-zero emissions.\n    *Fetched content (length: 8000 chars)*\n\n**Query 2:** key aspects of The Future of Renewable Energy\n  - Result: The Future of Renewable Energy (https://www.ibm.com/think/insights/renewable-energy-future)\n    Snippet: The next generation of clean energy needs innovative technology and power generation to help the world reach net-zero emissions.\n    *URL already processed.*\n  - Result: What the Future of Renewable Energy Looks Like (https://earth.org/the-growth-of-renewable-energy-what-does-the-future-hold/)\n    Snippet: 1. Solar Will Become 35% Cheaper By 2024 · 2. Onshore Wind Energy Capacity Will Increase 57% By 2024 · 3. Hydroelectric Capacity Will Rise 9% By ...\n    *URL already processed.*\n\n**Query 3:** introduction to The Future of Renewable Energy\n  - Result: The Future of Renewable Energy (https://www.ibm.com/think/insights/renewable-energy-future)\n    Snippet: The next generation of clean energy needs innovative technology and power generation to help the world reach net-zero emissions.\n    *URL already processed.*\n  - Result: What the Future of Renewable Energy Looks Like (https://earth.org/the-growth-of-renewable-energy-what-does-the-future-hold/)\n    Snippet: According to The International Energy Agency, renewable energy capacity is set to expand by 50% by 2024, led by solar energy.\n    *URL already proces... (log truncated for display)"
          },
          "metadata": {}
        }
      ]
    },
    {
      "cell_type": "code",
      "source": [
        "#@title 6. Content Structuring & Synthesis (LLM)\n",
        "\n",
        "#@markdown Select LLM model for content generation (GPT-4 class recommended):\n",
        "llm_model_ppt = \"gpt-4-turbo-preview\" #@param [\"gpt-4-turbo-preview\", \"gpt-4\", \"gpt-3.5-turbo\"]\n",
        "\n",
        "structured_content_for_ppt = None\n",
        "\n",
        "def generate_ppt_content_structure(topic, research_text, focus, audience, model_name=\"gpt-4-turbo-preview\"):\n",
        "    if not openai.api_key:\n",
        "        return {\"error\": \"OpenAI API Key not set.\"}\n",
        "    if not research_text or \"Web research skipped\" in research_text or \"No detailed information could be gathered\" in research_text :\n",
        "        # If research failed, try to generate content based on the topic and focus alone as a fallback\n",
        "        research_context_for_prompt = \"Assume general knowledge for the topic as web research was limited or failed.\"\n",
        "        print(\"⚠️ Web research was limited. LLM will attempt to generate content based on general knowledge of the topic.\")\n",
        "    else:\n",
        "        research_context_for_prompt = f\"Leverage the following research text:\\n<research_text>\\n{research_text}\\n</research_text>\"\n",
        "\n",
        "\n",
        "    prompt = f\"\"\"\n",
        "    You are an expert Research Analyst and Content Creator tasked with drafting the content for a concise, informative one-page PowerPoint presentation.\n",
        "    The presentation is on the topic: \"{topic}\".\n",
        "    Your target audience is: \"{audience}\".\n",
        "    Specific focus points to include if possible: \"{focus}\".\n",
        "\n",
        "    {research_context_for_prompt}\n",
        "\n",
        "    Based *primarily* on the provided research text (if available and substantial, otherwise general knowledge), structure the content for a single PowerPoint slide as a JSON object with the following keys:\n",
        "    - \"title\": A compelling and concise title for the one-page presentation (max 10-12 words).\n",
        "    - \"introduction\": A brief introductory overview of the topic (2-3 sentences, max 50-70 words).\n",
        "    - \"key_sections\": A list of 3 to 4 key sections. Each section in the list should be an object with:\n",
        "        - \"header\": A short, impactful header for the section (max 5-7 words).\n",
        "        - \"points\": A list of 2 to 4 concise bullet points (each bullet point max 15-20 words).\n",
        "    - \"conclusion\": A brief concluding remark or key takeaway (1-2 sentences, max 40-50 words).\n",
        "\n",
        "    Ensure the language is appropriate for the target audience: \"{audience}\".\n",
        "    The content must be highly summarized and suitable for a single, readable PowerPoint slide.\n",
        "    Prioritize clarity, conciseness, and impact. Do not use overly complex sentences.\n",
        "    Avoid explicitly saying \"This presentation will...\" or \"In this slide...\". Just provide the content.\n",
        "\n",
        "    Output ONLY the JSON object. Do not include any other explanatory text before or after the JSON.\n",
        "    Example of a key_section object: {{ \"header\": \"Key Benefits\", \"points\": [\"Benefit 1 description.\", \"Benefit 2 description.\"] }}\n",
        "    \"\"\"\n",
        "\n",
        "    print(f\"\\n🤖 Synthesizing content for PowerPoint on '{topic}' using {model_name}...\")\n",
        "    print(\"This may take a moment...\")\n",
        "\n",
        "    try:\n",
        "        response = openai.chat.completions.create(\n",
        "            model=model_name,\n",
        "            messages=[\n",
        "                {\"role\": \"system\", \"content\": \"You are an expert content creator for presentations, outputting structured JSON.\"},\n",
        "                {\"role\": \"user\", \"content\": prompt}\n",
        "            ],\n",
        "            temperature=0.4, # Balance of factual and well-structured\n",
        "            max_tokens=1500, # Allow for structured JSON output\n",
        "            response_format={\"type\": \"json_object\"} # Request JSON output if model supports it\n",
        "        )\n",
        "        content_json_str = response.choices[0].message.content\n",
        "\n",
        "        # Clean the JSON string if it's wrapped in markdown code block\n",
        "        if content_json_str.startswith(\"```json\"):\n",
        "            content_json_str = content_json_str[len(\"```json\"):]\n",
        "        if content_json_str.endswith(\"```\"):\n",
        "            content_json_str = content_json_str[:-len(\"```\")]\n",
        "        content_json_str = content_json_str.strip()\n",
        "\n",
        "        parsed_content = json.loads(content_json_str)\n",
        "        print(\"✅ Content structure generated by LLM.\")\n",
        "        # Basic validation\n",
        "        if not all(k in parsed_content for k in [\"title\", \"introduction\", \"key_sections\", \"conclusion\"]):\n",
        "            print(\"⚠️ LLM output was not in the expected JSON structure. Presentation might be incomplete.\")\n",
        "            return {\"error\": \"LLM output structure incorrect.\", \"raw_output\": content_json_str}\n",
        "        return parsed_content\n",
        "    except json.JSONDecodeError as e:\n",
        "        print(f\"⚠️ Error decoding JSON from LLM: {e}\")\n",
        "        print(f\"LLM Raw Output was:\\n{content_json_str}\")\n",
        "        return {\"error\": f\"JSONDecodeError: {e}\", \"raw_output\": content_json_str}\n",
        "    except Exception as e:\n",
        "        print(f\"⚠️ An error occurred during LLM content generation: {e}\")\n",
        "        return {\"error\": str(e)}\n",
        "\n",
        "# --- Main execution ---\n",
        "if 'presentation_topic' in globals() and presentation_topic and presentation_topic != \"e.g., The Impact of AI on Healthcare\":\n",
        "    if openai.api_key:\n",
        "        structured_content_for_ppt = generate_ppt_content_structure(\n",
        "            presentation_topic,\n",
        "            researched_text_corpus,\n",
        "            specific_focus_points,\n",
        "            target_audience,\n",
        "            model_name=llm_model_ppt\n",
        "        )\n",
        "        if \"error\" in structured_content_for_ppt:\n",
        "            print(f\"\\n🛑 Failed to generate structured content: {structured_content_for_ppt['error']}\")\n",
        "            if \"raw_output\" in structured_content_for_ppt:\n",
        "                display(Markdown(\"```\\n\" + structured_content_for_ppt['raw_output'] + \"\\n```\"))\n",
        "        else:\n",
        "            print(\"\\n--- Generated Content Structure (for PowerPoint) ---\")\n",
        "            display(Markdown(f\"**Title:** {structured_content_for_ppt.get('title', 'N/A')}\"))\n",
        "            display(Markdown(f\"**Introduction:** {structured_content_for_ppt.get('introduction', 'N/A')}\"))\n",
        "            for i, section in enumerate(structured_content_for_ppt.get('key_sections', [])):\n",
        "                display(Markdown(f\"\\n**Section {i+1}: {section.get('header', 'N/A')}**\"))\n",
        "                for point in section.get('points', []):\n",
        "                    display(Markdown(f\"* {point}\"))\n",
        "            display(Markdown(f\"\\n**Conclusion:** {structured_content_for_ppt.get('conclusion', 'N/A')}\"))\n",
        "    else:\n",
        "        print(\"\\n🛑 OpenAI API Key not configured. Cannot synthesize content.\")\n",
        "else:\n",
        "    print(\"\\n⚠️ Please provide a presentation topic in Step 4.\")"
      ],
      "metadata": {
        "colab": {
          "base_uri": "https://localhost:8080/",
          "height": 515
        },
        "id": "4Qwj1zLgnqpS",
        "outputId": "bb8f1d87-249c-449c-a6ed-6818b67bea87"
      },
      "execution_count": 5,
      "outputs": [
        {
          "output_type": "stream",
          "name": "stdout",
          "text": [
            "\n",
            "🤖 Synthesizing content for PowerPoint on 'The Future of Renewable Energy' using gpt-4-turbo-preview...\n",
            "This may take a moment...\n",
            "✅ Content structure generated by LLM.\n",
            "\n",
            "--- Generated Content Structure (for PowerPoint) ---\n"
          ]
        },
        {
          "output_type": "display_data",
          "data": {
            "text/plain": [
              "<IPython.core.display.Markdown object>"
            ],
            "text/markdown": "**Title:** Renewable Energy: Pathway to a Sustainable Future"
          },
          "metadata": {}
        },
        {
          "output_type": "display_data",
          "data": {
            "text/plain": [
              "<IPython.core.display.Markdown object>"
            ],
            "text/markdown": "**Introduction:** Explore the dynamic landscape of renewable energy, its rapid growth, and the pivotal role it plays in shaping a sustainable, eco-friendly future."
          },
          "metadata": {}
        },
        {
          "output_type": "display_data",
          "data": {
            "text/plain": [
              "<IPython.core.display.Markdown object>"
            ],
            "text/markdown": "\n**Section 1: Rapid Expansion of Solar Power**"
          },
          "metadata": {}
        },
        {
          "output_type": "display_data",
          "data": {
            "text/plain": [
              "<IPython.core.display.Markdown object>"
            ],
            "text/markdown": "* Solar capacity set to double, becoming cheaper by 35% by 2024."
          },
          "metadata": {}
        },
        {
          "output_type": "display_data",
          "data": {
            "text/plain": [
              "<IPython.core.display.Markdown object>"
            ],
            "text/markdown": "* Accessibility and decreasing costs drive global solar adoption."
          },
          "metadata": {}
        },
        {
          "output_type": "display_data",
          "data": {
            "text/plain": [
              "<IPython.core.display.Markdown object>"
            ],
            "text/markdown": "* Residential solar capacity to triple, with significant growth in China."
          },
          "metadata": {}
        },
        {
          "output_type": "display_data",
          "data": {
            "text/plain": [
              "<IPython.core.display.Markdown object>"
            ],
            "text/markdown": "\n**Section 2: Economic and Environmental Impact**"
          },
          "metadata": {}
        },
        {
          "output_type": "display_data",
          "data": {
            "text/plain": [
              "<IPython.core.display.Markdown object>"
            ],
            "text/markdown": "* Renewables to reach 30% of global electricity by 2024, reducing reliance on fossil fuels."
          },
          "metadata": {}
        },
        {
          "output_type": "display_data",
          "data": {
            "text/plain": [
              "<IPython.core.display.Markdown object>"
            ],
            "text/markdown": "* Job creation in clean energy sectors surpasses fossil fuel industry."
          },
          "metadata": {}
        },
        {
          "output_type": "display_data",
          "data": {
            "text/plain": [
              "<IPython.core.display.Markdown object>"
            ],
            "text/markdown": "* Renewable energy investments offer long-term savings and environmental benefits."
          },
          "metadata": {}
        },
        {
          "output_type": "display_data",
          "data": {
            "text/plain": [
              "<IPython.core.display.Markdown object>"
            ],
            "text/markdown": "\n**Section 3: Technological Innovations and Challenges**"
          },
          "metadata": {}
        },
        {
          "output_type": "display_data",
          "data": {
            "text/plain": [
              "<IPython.core.display.Markdown object>"
            ],
            "text/markdown": "* Next-gen solar panels and wind turbines enhance efficiency."
          },
          "metadata": {}
        },
        {
          "output_type": "display_data",
          "data": {
            "text/plain": [
              "<IPython.core.display.Markdown object>"
            ],
            "text/markdown": "* Energy storage solutions critical for managing supply and demand."
          },
          "metadata": {}
        },
        {
          "output_type": "display_data",
          "data": {
            "text/plain": [
              "<IPython.core.display.Markdown object>"
            ],
            "text/markdown": "* Infrastructure and policy adaptation remain key challenges."
          },
          "metadata": {}
        },
        {
          "output_type": "display_data",
          "data": {
            "text/plain": [
              "<IPython.core.display.Markdown object>"
            ],
            "text/markdown": "\n**Conclusion:** Renewable energy stands at the forefront of combating climate change, promising a greener, more sustainable future with economic growth and technological innovation."
          },
          "metadata": {}
        }
      ]
    },
    {
      "cell_type": "code",
      "execution_count": 6,
      "metadata": {
        "colab": {
          "base_uri": "https://localhost:8080/",
          "height": 88
        },
        "id": "8_P4kctKneOY",
        "outputId": "2e97417b-f7ae-4656-aa51-abe287549648"
      },
      "outputs": [
        {
          "output_type": "stream",
          "name": "stdout",
          "text": [
            "✅ PowerPoint presentation 'AI_Generated_OnePager.pptx' saved successfully.\n",
            "\n",
            "⬇️ To download 'AI_Generated_OnePager.pptx', run the next cell or find it in the Colab file explorer.\n"
          ]
        },
        {
          "output_type": "display_data",
          "data": {
            "text/plain": [
              "<IPython.core.display.Javascript object>"
            ],
            "application/javascript": [
              "\n",
              "    async function download(id, filename, size) {\n",
              "      if (!google.colab.kernel.accessAllowed) {\n",
              "        return;\n",
              "      }\n",
              "      const div = document.createElement('div');\n",
              "      const label = document.createElement('label');\n",
              "      label.textContent = `Downloading \"${filename}\": `;\n",
              "      div.appendChild(label);\n",
              "      const progress = document.createElement('progress');\n",
              "      progress.max = size;\n",
              "      div.appendChild(progress);\n",
              "      document.body.appendChild(div);\n",
              "\n",
              "      const buffers = [];\n",
              "      let downloaded = 0;\n",
              "\n",
              "      const channel = await google.colab.kernel.comms.open(id);\n",
              "      // Send a message to notify the kernel that we're ready.\n",
              "      channel.send({})\n",
              "\n",
              "      for await (const message of channel.messages) {\n",
              "        // Send a message to notify the kernel that we're ready.\n",
              "        channel.send({})\n",
              "        if (message.buffers) {\n",
              "          for (const buffer of message.buffers) {\n",
              "            buffers.push(buffer);\n",
              "            downloaded += buffer.byteLength;\n",
              "            progress.value = downloaded;\n",
              "          }\n",
              "        }\n",
              "      }\n",
              "      const blob = new Blob(buffers, {type: 'application/binary'});\n",
              "      const a = document.createElement('a');\n",
              "      a.href = window.URL.createObjectURL(blob);\n",
              "      a.download = filename;\n",
              "      div.appendChild(a);\n",
              "      a.click();\n",
              "      div.remove();\n",
              "    }\n",
              "  "
            ]
          },
          "metadata": {}
        },
        {
          "output_type": "display_data",
          "data": {
            "text/plain": [
              "<IPython.core.display.Javascript object>"
            ],
            "application/javascript": [
              "download(\"download_404b39cf-f730-4e8b-aef6-ecb5b2e2bd0e\", \"AI_Generated_OnePager.pptx\", 29322)"
            ]
          },
          "metadata": {}
        },
        {
          "output_type": "stream",
          "name": "stdout",
          "text": [
            "   Download for 'AI_Generated_OnePager.pptx' initiated.\n"
          ]
        }
      ],
      "source": [
        "#@title 7. PowerPoint Generation\n",
        "\n",
        "#@markdown Define output filename:\n",
        "output_filename = \"AI_Generated_OnePager.pptx\" #@param {type:\"string\"}\n",
        "\n",
        "def create_one_page_ppt(content_structure, filename=\"presentation.pptx\"):\n",
        "    if not content_structure or \"error\" in content_structure:\n",
        "        print(\"🛑 Cannot generate PowerPoint: Content structure is missing or invalid.\")\n",
        "        return None\n",
        "\n",
        "    prs = Presentation()\n",
        "    # Use a blank slide layout (typically layout index 6 in a new presentation)\n",
        "    blank_slide_layout = prs.slide_layouts[6]\n",
        "    slide = prs.slides.add_slide(blank_slide_layout)\n",
        "\n",
        "    # Slide dimensions (standard 16:9 aspect ratio in inches)\n",
        "    slide_width = Inches(10) # Standard width for 16:9\n",
        "    slide_height = Inches(5.625) # Standard height for 16:9\n",
        "    prs.slide_width = slide_width\n",
        "    prs.slide_height = slide_height\n",
        "\n",
        "    # Margins\n",
        "    left_margin = Inches(0.3)\n",
        "    right_margin = Inches(0.3)\n",
        "    top_margin = Inches(0.25)\n",
        "    bottom_margin = Inches(0.25)\n",
        "    content_width = slide_width - left_margin - right_margin\n",
        "\n",
        "    # --- Title ---\n",
        "    title_shape = slide.shapes.add_textbox(left_margin, top_margin, content_width, Inches(0.75))\n",
        "    title_tf = title_shape.text_frame\n",
        "    title_tf.clear() # Ensure it's empty before adding new paragraph\n",
        "    p_title = title_tf.paragraphs[0]\n",
        "    p_title.text = content_structure.get(\"title\", \"Presentation Title\")\n",
        "    p_title.font.name = 'Arial'\n",
        "    p_title.font.size = Pt(32)\n",
        "    p_title.font.bold = True\n",
        "    p_title.alignment = PP_ALIGN.CENTER\n",
        "    p_title.font.color.rgb = RGBColor(0x00, 0x00, 0x5A) # Dark Blue\n",
        "    current_y = top_margin + Inches(0.75 + 0.15) # Title height + small gap\n",
        "\n",
        "    # --- Introduction ---\n",
        "    intro_height = Inches(0.5)\n",
        "    intro_shape = slide.shapes.add_textbox(left_margin, current_y, content_width, intro_height)\n",
        "    intro_tf = intro_shape.text_frame\n",
        "    intro_tf.clear()\n",
        "    p_intro = intro_tf.paragraphs[0]\n",
        "    p_intro.text = content_structure.get(\"introduction\", \"Introduction text goes here.\")\n",
        "    p_intro.font.name = 'Arial'\n",
        "    p_intro.font.size = Pt(12)\n",
        "    intro_tf.word_wrap = True\n",
        "    current_y += intro_height + Inches(0.15)\n",
        "\n",
        "    # --- Key Sections (attempting a 2-column layout if 3 or 4 sections) ---\n",
        "    key_sections = content_structure.get(\"key_sections\", [])\n",
        "    num_sections = len(key_sections)\n",
        "\n",
        "    available_height_for_sections = slide_height - current_y - bottom_margin - Inches(0.5) # Reserve space for conclusion\n",
        "\n",
        "    if num_sections > 0:\n",
        "        if num_sections >= 2 and num_sections <= 4 : # Try 2 columns\n",
        "            col_width = (content_width - Inches(0.2)) / 2 # width for each column, with a small gap\n",
        "            items_per_col = (num_sections + 1) // 2 # roughly half in each\n",
        "\n",
        "            col1_sections = key_sections[:items_per_col]\n",
        "            col2_sections = key_sections[items_per_col:]\n",
        "\n",
        "            max_y_col1 = current_y\n",
        "            max_y_col2 = current_y\n",
        "\n",
        "            # Column 1\n",
        "            temp_y_col1 = current_y\n",
        "            for section in col1_sections:\n",
        "                sec_header = section.get(\"header\", \"Section Header\")\n",
        "                sec_points = section.get(\"points\", [])\n",
        "\n",
        "                # Header\n",
        "                h_shape = slide.shapes.add_textbox(left_margin, temp_y_col1, col_width, Inches(0.3))\n",
        "                h_tf = h_shape.text_frame\n",
        "                h_tf.clear()\n",
        "                p_h = h_tf.paragraphs[0]\n",
        "                p_h.text = sec_header\n",
        "                p_h.font.name = 'Arial'\n",
        "                p_h.font.size = Pt(16)\n",
        "                p_h.font.bold = True\n",
        "                p_h.font.color.rgb = RGBColor(0x1E, 0x4E, 0x8C) # Another shade of blue\n",
        "                temp_y_col1 += Inches(0.3 + 0.05)\n",
        "\n",
        "                # Points\n",
        "                for point_text in sec_points:\n",
        "                    pt_shape = slide.shapes.add_textbox(left_margin + Inches(0.2), temp_y_col1, col_width - Inches(0.2), Inches(0.25 * (point_text.count('\\n') + 1))) # Dynamic height approx\n",
        "                    pt_tf = pt_shape.text_frame\n",
        "                    pt_tf.clear()\n",
        "                    p_pt = pt_tf.paragraphs[0]\n",
        "                    p_pt.text = f\"• {point_text}\" # Add bullet character\n",
        "                    p_pt.font.name = 'Arial'\n",
        "                    p_pt.font.size = Pt(11)\n",
        "                    pt_tf.word_wrap = True\n",
        "                    # Estimate height based on text length; this is tricky\n",
        "                    est_height = Inches(0.20) + Inches(0.15 * (len(point_text) // 40)) # Rough estimate\n",
        "                    temp_y_col1 += est_height # Increment y for next point\n",
        "                temp_y_col1 += Inches(0.15) # Gap after section\n",
        "            max_y_col1 = temp_y_col1\n",
        "\n",
        "            # Column 2\n",
        "            temp_y_col2 = current_y\n",
        "            col2_left = left_margin + col_width + Inches(0.2)\n",
        "            for section in col2_sections:\n",
        "                sec_header = section.get(\"header\", \"Section Header\")\n",
        "                sec_points = section.get(\"points\", [])\n",
        "                # Header\n",
        "                h_shape = slide.shapes.add_textbox(col2_left, temp_y_col2, col_width, Inches(0.3))\n",
        "                h_tf = h_shape.text_frame; h_tf.clear(); p_h = h_tf.paragraphs[0]\n",
        "                p_h.text = sec_header; p_h.font.name = 'Arial'; p_h.font.size = Pt(16); p_h.font.bold = True; p_h.font.color.rgb = RGBColor(0x1E, 0x4E, 0x8C)\n",
        "                temp_y_col2 += Inches(0.3 + 0.05)\n",
        "                # Points\n",
        "                for point_text in sec_points:\n",
        "                    pt_shape = slide.shapes.add_textbox(col2_left + Inches(0.2), temp_y_col2, col_width - Inches(0.2), Inches(0.25 * (point_text.count('\\n') + 1)))\n",
        "                    pt_tf = pt_shape.text_frame; pt_tf.clear(); p_pt = pt_tf.paragraphs[0]\n",
        "                    p_pt.text = f\"• {point_text}\"; p_pt.font.name = 'Arial'; p_pt.font.size = Pt(11); pt_tf.word_wrap = True\n",
        "                    est_height = Inches(0.20) + Inches(0.15 * (len(point_text) // 40))\n",
        "                    temp_y_col2 += est_height\n",
        "                temp_y_col2 += Inches(0.15)\n",
        "            max_y_col2 = temp_y_col2\n",
        "            current_y = max(max_y_col1, max_y_col2) # New Y is below the longest column\n",
        "\n",
        "        else: # Single column for 1 section or > 4 sections (basic layout)\n",
        "            for section in key_sections:\n",
        "                sec_header = section.get(\"header\", \"Section Header\")\n",
        "                sec_points = section.get(\"points\", [])\n",
        "                # Header\n",
        "                h_shape = slide.shapes.add_textbox(left_margin, current_y, content_width, Inches(0.3))\n",
        "                h_tf = h_shape.text_frame; h_tf.clear(); p_h = h_tf.paragraphs[0]\n",
        "                p_h.text = sec_header; p_h.font.name = 'Arial'; p_h.font.size = Pt(16); p_h.font.bold = True; p_h.font.color.rgb = RGBColor(0x1E, 0x4E, 0x8C)\n",
        "                current_y += Inches(0.3 + 0.05)\n",
        "                # Points\n",
        "                for point_text in sec_points:\n",
        "                    pt_shape = slide.shapes.add_textbox(left_margin + Inches(0.2), current_y, content_width - Inches(0.2), Inches(0.25 * (point_text.count('\\n') + 1)))\n",
        "                    pt_tf = pt_shape.text_frame; pt_tf.clear(); p_pt = pt_tf.paragraphs[0]\n",
        "                    p_pt.text = f\"• {point_text}\"; p_pt.font.name = 'Arial'; p_pt.font.size = Pt(11); pt_tf.word_wrap = True\n",
        "                    est_height = Inches(0.20) + Inches(0.15 * (len(point_text) // 40))\n",
        "                    current_y += est_height\n",
        "                current_y += Inches(0.15)\n",
        "\n",
        "    # --- Conclusion ---\n",
        "    # Place conclusion at a fixed position from bottom or after sections\n",
        "    conclusion_y = slide_height - bottom_margin - Inches(0.5) # Fixed from bottom\n",
        "    if current_y > conclusion_y - Inches(0.2): # If content is too long, adjust conclusion y\n",
        "        conclusion_y = current_y + Inches(0.1)\n",
        "        if conclusion_y > slide_height - bottom_margin - Inches(0.25): # Cap height\n",
        "             conclusion_y = slide_height - bottom_margin - Inches(0.25)\n",
        "\n",
        "\n",
        "    conc_shape = slide.shapes.add_textbox(left_margin, conclusion_y, content_width, Inches(0.5))\n",
        "    conc_tf = conc_shape.text_frame\n",
        "    conc_tf.clear()\n",
        "    p_conc = conc_tf.paragraphs[0]\n",
        "    p_conc.text = content_structure.get(\"conclusion\", \"Conclusion text goes here.\")\n",
        "    p_conc.font.name = 'Arial'\n",
        "    p_conc.font.size = Pt(12)\n",
        "    p_conc.font.italic = True\n",
        "    conc_tf.word_wrap = True\n",
        "    p_conc.alignment = PP_ALIGN.CENTER\n",
        "\n",
        "    try:\n",
        "        prs.save(filename)\n",
        "        print(f\"✅ PowerPoint presentation '{filename}' saved successfully.\")\n",
        "        return filename\n",
        "    except Exception as e:\n",
        "        print(f\"🛑 Error saving PowerPoint: {e}\")\n",
        "        return None\n",
        "\n",
        "# --- Main execution ---\n",
        "if 'structured_content_for_ppt' in globals() and \\\n",
        "   structured_content_for_ppt and \\\n",
        "   not structured_content_for_ppt.get(\"error\"):\n",
        "\n",
        "    generated_ppt_file = create_one_page_ppt(structured_content_for_ppt, output_filename)\n",
        "\n",
        "    if generated_ppt_file:\n",
        "        print(f\"\\n⬇️ To download '{generated_ppt_file}', run the next cell or find it in the Colab file explorer.\")\n",
        "        # Offer download directly\n",
        "        try:\n",
        "          colab_files.download(generated_ppt_file)\n",
        "          print(f\"   Download for '{generated_ppt_file}' initiated.\")\n",
        "        except Exception as e:\n",
        "          print(f\"   Automatic download failed: {e}. Please use file explorer to download.\")\n",
        "\n",
        "elif 'structured_content_for_ppt' in globals() and structured_content_for_ppt and structured_content_for_ppt.get(\"error\"):\n",
        "    print(\"\\n⚠️ Skipping PowerPoint generation due to errors in content synthesis (Step 6).\")\n",
        "else:\n",
        "    print(\"\\n⚠️ Content for PowerPoint not generated (Step 6 was likely not run or failed). Skipping PowerPoint generation.\")"
      ]
    }
  ]
}