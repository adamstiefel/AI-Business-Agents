{
  "nbformat": 4,
  "nbformat_minor": 0,
  "metadata": {
    "colab": {
      "provenance": [],
      "authorship_tag": "ABX9TyN5/Age4fYAh3ESlk37SXyV",
      "include_colab_link": true
    },
    "kernelspec": {
      "name": "python3",
      "display_name": "Python 3"
    },
    "language_info": {
      "name": "python"
    }
  },
  "cells": [
    {
      "cell_type": "markdown",
      "metadata": {
        "id": "view-in-github",
        "colab_type": "text"
      },
      "source": [
        "<a href=\"https://colab.research.google.com/github/adamstiefel/AI-Business-Agents/blob/main/Competitor_Research_Agent_.ipynb\" target=\"_parent\"><img src=\"https://colab.research.google.com/assets/colab-badge.svg\" alt=\"Open In Colab\"/></a>"
      ]
    },
    {
      "cell_type": "markdown",
      "source": [
        "# 🕵️ Competitor Research Agent 📊\n",
        "\n",
        "## Goal\n",
        "To gather publicly available information about a competitor using web search, and then utilize a Large Language Model (LLM) to analyze this information and generate a concise strategic report including SWOT analysis, key Business Model Canvas elements, and strategic insights.\n",
        "\n",
        "## How this \"Makes Money\" (Delivers Business Value)\n",
        "\n",
        "* 🚀 **Accelerate Market Research:** Drastically reduce the initial manual effort and time spent gathering and sifting through competitor information from the web.\n",
        "* 💡 **Inform Strategic Decisions:** Provide structured analysis (SWOT, BMC elements) that helps in understanding a competitor's position, strengths, weaknesses, and potential strategies, leading to more informed business planning.\n",
        "* 🎯 **Identify Competitive Advantages & Gaps:** Uncover what makes competitors successful and identify potential market gaps or opportunities for your own business to exploit.\n",
        "* 📈 **Enhance Product & Service Development:** Gain insights into competitor offerings, value propositions, and customer focus, which can inform your own product roadmap and innovation efforts.\n",
        "* 🔍 **Uncover Potential Threats & Opportunities:** Early identification of competitor moves, market trends (reflected in their news/positioning), or emerging threats can be crucial for proactive strategy.\n",
        "* 📊 **More Efficient Resource Allocation:** By quickly getting a baseline understanding of the competitive landscape, businesses can allocate their research and strategic resources more effectively.\n",
        "* 🗣️ **Improve Marketing & Sales Positioning:** Understand how competitors market themselves and what their value propositions are to refine your own messaging and sales tactics.\n",
        "\n",
        "---\n",
        "**Important Note:** This agent provides a high-level automated analysis based on publicly available information. It's a powerful starting point but should complement, not replace, in-depth human market research and strategic analysis. The accuracy of the output depends on the quality and amount of information retrieved and the LLM's interpretation.\n",
        "---"
      ],
      "metadata": {
        "id": "ejMjswXXapha"
      }
    },
    {
      "cell_type": "code",
      "execution_count": 1,
      "metadata": {
        "colab": {
          "base_uri": "https://localhost:8080/"
        },
        "id": "H2fKyLBbZ__O",
        "outputId": "9063e19a-d6f1-43f6-8f5b-8a7320949289"
      },
      "outputs": [
        {
          "output_type": "stream",
          "name": "stdout",
          "text": [
            "  Preparing metadata (setup.py) ... \u001b[?25l\u001b[?25hdone\n",
            "  Building wheel for google-search-results (setup.py) ... \u001b[?25l\u001b[?25hdone\n",
            "Libraries installed/available and imported.\n"
          ]
        }
      ],
      "source": [
        "#@title 2. Setup and Installations\n",
        "# --- Install necessary libraries ---\n",
        "!pip install openai requests beautifulsoup4 google-search-results -q\n",
        "\n",
        "import openai\n",
        "import requests\n",
        "from bs4 import BeautifulSoup\n",
        "import json # For handling potential JSON in search results or structured data\n",
        "import re # For cleaning text\n",
        "from IPython.display import display, Markdown, HTML\n",
        "from google.colab import userdata # For API keys\n",
        "from serpapi import GoogleSearch # For using SerpApi for Google Search\n",
        "\n",
        "print(\"Libraries installed/available and imported.\")"
      ]
    },
    {
      "cell_type": "code",
      "source": [
        "#@title 3. API Key Configuration\n",
        "# --- Configure your OpenAI API Key ---\n",
        "OPENAI_API_KEY = None\n",
        "try:\n",
        "    OPENAI_API_KEY = userdata.get('OPENAI_API_KEY')\n",
        "    if OPENAI_API_KEY:\n",
        "        openai.api_key = OPENAI_API_KEY\n",
        "        print(\"✅ OpenAI API Key loaded successfully from Colab Secrets.\")\n",
        "    else:\n",
        "        print(\"⚠️ OpenAI API Key not found in Colab Secrets. Please add it if you intend to use OpenAI.\")\n",
        "except Exception as e:\n",
        "    print(f\"⚠️ Error accessing Colab Secrets for OpenAI: {e}. You may need to set the key manually if continuing without secrets.\")\n",
        "\n",
        "if not openai.api_key:\n",
        "    print(\"🛑 OpenAI API Key is NOT SET. LLM functionality requiring OpenAI will not work unless set manually later.\")\n",
        "\n",
        "# --- Configure your SerpApi API Key (for Google Search) ---\n",
        "# Recommended: Use Colab Secrets. Add a secret named 'SERPAPI_API_KEY'.\n",
        "SERPAPI_API_KEY = None\n",
        "try:\n",
        "    SERPAPI_API_KEY = userdata.get('SERPAPI_API_KEY')\n",
        "    if SERPAPI_API_KEY:\n",
        "        print(\"✅ SerpApi API Key loaded successfully from Colab Secrets.\")\n",
        "    else:\n",
        "        print(\"⚠️ SerpApi API Key not found in Colab Secrets. Google Search functionality will be limited or disabled unless set manually.\")\n",
        "except Exception as e:\n",
        "    print(f\"⚠️ Error accessing Colab Secrets for SerpApi: {e}. You may need to set the key manually.\")\n",
        "\n",
        "if not SERPAPI_API_KEY:\n",
        "    print(\"🛑 SerpApi API Key is NOT SET. Google Search using SerpApi will not work.\")"
      ],
      "metadata": {
        "colab": {
          "base_uri": "https://localhost:8080/"
        },
        "id": "ZUG3jJiZbaKo",
        "outputId": "c00a999f-9e95-4cb5-c1f8-d2c80b856c09"
      },
      "execution_count": 7,
      "outputs": [
        {
          "output_type": "stream",
          "name": "stdout",
          "text": [
            "✅ OpenAI API Key loaded successfully from Colab Secrets.\n",
            "✅ SerpApi API Key loaded successfully from Colab Secrets.\n"
          ]
        }
      ]
    },
    {
      "cell_type": "code",
      "source": [
        "#@title 4. Input: Competitor Information\n",
        "\n",
        "#@markdown Enter the name of the competitor:\n",
        "competitor_name = \"Nvidia\" #@param {type:\"string\"}\n",
        "\n",
        "#@markdown (Optional) Enter the main website URL of the competitor (e.g., [https://www.exampleco.com](https://www.exampleco.com)):\n",
        "competitor_url = \"[https://www.nvidia.com](https://www.nvidia.com)\" #@param {type:\"string\"}\n",
        "#@markdown *Providing a URL can help in targeted information gathering, but fetching content directly can be unreliable.*\n",
        "\n",
        "#@markdown (Optional) Provide any specific questions or areas of focus for this competitor (e.g., \"Focus on their AI product strategy\", \"What are their key partnerships?\"):\n",
        "specific_focus = \"AI strategy and datacenter solutions\" #@param {type:\"string\"}\n",
        "\n",
        "\n",
        "if not competitor_name or competitor_name == \"ExampleCo Inc.\": # Basic check for default\n",
        "    print(\"⚠️ Please enter a valid competitor name.\")\n",
        "else:\n",
        "    print(f\"✅ Researching competitor: {competitor_name}\")\n",
        "    if competitor_url and competitor_url != \"[https://www.example.com](https://www.example.com)\": # Basic check for default\n",
        "        print(f\"   Main website (for targeted search): {competitor_url}\")\n",
        "    if specific_focus:\n",
        "        print(f\"   Specific focus: {specific_focus}\")"
      ],
      "metadata": {
        "colab": {
          "base_uri": "https://localhost:8080/"
        },
        "id": "P8xpDxbtbaP0",
        "outputId": "686cb513-de4c-4e67-80b5-5478d3cec737"
      },
      "execution_count": 8,
      "outputs": [
        {
          "output_type": "stream",
          "name": "stdout",
          "text": [
            "✅ Researching competitor: Nvidia\n",
            "   Main website (for targeted search): [https://www.nvidia.com](https://www.nvidia.com)\n",
            "   Specific focus: AI strategy and datacenter solutions\n"
          ]
        }
      ]
    },
    {
      "cell_type": "code",
      "source": [
        "#@title 5. Information Gathering\n",
        "\n",
        "# --- Helper function to fetch and parse a single URL (basic) ---\n",
        "def fetch_url_content(url):\n",
        "    \"\"\"Fetches and parses text content from a single URL. Very basic.\"\"\"\n",
        "    if not url or not url.startswith(('http://', 'https://')):\n",
        "        print(f\"⚠️ Invalid URL provided: {url}\")\n",
        "        return None\n",
        "    try:\n",
        "        headers = {\n",
        "            'User-Agent': 'Mozilla/5.0 (Windows NT 10.0; Win64; x64) AppleWebKit/537.36 (KHTML, like Gecko) Chrome/91.0.4472.124 Safari/537.36'\n",
        "        }\n",
        "        response = requests.get(url, headers=headers, timeout=15)\n",
        "        response.raise_for_status()\n",
        "\n",
        "        soup = BeautifulSoup(response.text, 'html.parser')\n",
        "\n",
        "        for script_or_style in soup([\"script\", \"style\", \"header\", \"footer\", \"nav\", \"aside\"]): # Remove common non-content tags\n",
        "            script_or_style.decompose()\n",
        "\n",
        "        text = soup.get_text(separator='\\n', strip=True)\n",
        "        text = re.sub(r'\\n\\s*\\n', '\\n', text) # Reduce multiple blank lines to one\n",
        "\n",
        "        return text[:20000] # Limit length\n",
        "    except requests.exceptions.RequestException as e:\n",
        "        print(f\"⚠️ Error fetching URL {url}: {e}\")\n",
        "        return None\n",
        "    except Exception as e:\n",
        "        print(f\"⚠️ Error parsing URL {url}: {e}\")\n",
        "        return None\n",
        "\n",
        "# --- Gather information using Google Search (SerpApi) ---\n",
        "collected_information_text = \"\"\n",
        "search_summary = \"## Searched Information Summary:\\n\\n\"\n",
        "\n",
        "if SERPAPI_API_KEY and competitor_name and competitor_name != \"ExampleCo Inc.\": # Check for default\n",
        "    print(f\"🔎 Searching for information about: {competitor_name} using SerpApi...\")\n",
        "\n",
        "    search_queries = [\n",
        "        f\"{competitor_name} company overview\",\n",
        "        f\"{competitor_name} products and services\",\n",
        "        f\"{competitor_name} official about us\",\n",
        "        f\"{competitor_name} news\",\n",
        "        f\"{competitor_name} business model analysis\",\n",
        "        f\"{competitor_name} SWOT analysis reports\",\n",
        "        f\"{competitor_name} target market\"\n",
        "    ]\n",
        "    if specific_focus:\n",
        "        search_queries.append(f\"{competitor_name} {specific_focus}\")\n",
        "\n",
        "    all_search_snippets = []\n",
        "    fetched_urls_content = {} # To store content from fetched URLs to avoid re-fetching\n",
        "\n",
        "    for query in search_queries:\n",
        "        search_summary += f\"**Query:** {query}\\n\"\n",
        "        try:\n",
        "            params = {\n",
        "                \"q\": query,\n",
        "                \"api_key\": SERPAPI_API_KEY,\n",
        "                \"num\": 3 # Number of results to fetch per query\n",
        "            }\n",
        "            search = GoogleSearch(params)\n",
        "            results = search.get_dict()\n",
        "\n",
        "            organic_results = results.get(\"organic_results\", [])\n",
        "\n",
        "            if organic_results:\n",
        "                for result in organic_results[:2]: # Process top 2 organic results\n",
        "                    title = result.get(\"title\", \"No Title\")\n",
        "                    link = result.get(\"link\", \"#\")\n",
        "                    snippet = result.get(\"snippet\", result.get(\"title\",\"No snippet available.\")) # Use title if snippet is missing\n",
        "\n",
        "                    search_summary += f\"  - **{title}** ({link}): {snippet}\\n\"\n",
        "                    current_info = f\"Source Title: {title}\\nLink: {link}\\nSnippet: {snippet}\\n\\n\"\n",
        "\n",
        "                    # Try to fetch content from this link if it's relevant (e.g., from competitor's domain or major news)\n",
        "                    # and we haven't fetched it yet. Be very selective.\n",
        "                    is_primary_domain = False\n",
        "                    if competitor_url and competitor_url != \"[https://www.example.com](https://www.example.com)\":\n",
        "                        try:\n",
        "                            main_domain = re.search(r'https?://(?:www\\.)?([^/]+)', competitor_url).group(1)\n",
        "                            if main_domain in link:\n",
        "                                is_primary_domain = True\n",
        "                        except:\n",
        "                            pass # Ignore errors in domain matching\n",
        "\n",
        "                    if (is_primary_domain or \"news\" in query.lower() or \"about us\" in query.lower()) and link not in fetched_urls_content and link != \"#\":\n",
        "                        print(f\"   Attempting to fetch content from relevant link: {link}\")\n",
        "                        content = fetch_url_content(link)\n",
        "                        if content:\n",
        "                            fetched_urls_content[link] = content\n",
        "                            current_info += f\"Fetched Content Snippet (first 500 chars from {link}):\\n{content[:500]}...\\n\\n\"\n",
        "                            search_summary += f\"     *Successfully fetched content snippet from this link.*\\n\"\n",
        "                        else:\n",
        "                            search_summary += f\"     *Failed to fetch significant content from this link.*\\n\"\n",
        "                            fetched_urls_content[link] = \"\" # Mark as attempted\n",
        "\n",
        "                    all_search_snippets.append(current_info)\n",
        "            else:\n",
        "                search_summary += \"  - No organic results found for this query.\\n\"\n",
        "        except Exception as e:\n",
        "            search_summary += f\"  - Error during search for query '{query}': {e}\\n\"\n",
        "        search_summary += \"\\n\"\n",
        "\n",
        "    # Add content from directly fetched URLs\n",
        "    for url, content in fetched_urls_content.items():\n",
        "        if content: # Only add if content was successfully fetched\n",
        "             all_search_snippets.append(f\"Full Fetched Content from {url}:\\n{content}\\n---\\n\")\n",
        "\n",
        "\n",
        "    # Attempt to fetch content from the explicitly provided competitor_url if not already fetched\n",
        "    if competitor_url and competitor_url != \"[https://www.example.com](https://www.example.com)\" and competitor_url not in fetched_urls_content:\n",
        "        print(f\"\\nAttempting to fetch content from main provided URL: {competitor_url}...\")\n",
        "        content = fetch_url_content(competitor_url)\n",
        "        if content:\n",
        "            print(f\"✅ Successfully fetched and parsed content from {competitor_url} (length: {len(content)} chars).\")\n",
        "            all_search_snippets.insert(0, f\"Content from main website ({competitor_url}):\\n{content}\\n---\\n\") # Prepend\n",
        "            search_summary = f\"**Fetched Content from main URL {competitor_url}:**\\n {content[:500]}...\\n\\n\" + search_summary\n",
        "        else:\n",
        "            search_summary = f\"**Fetching Content from main URL {competitor_url}:** Failed or no significant content.\\n\\n\" + search_summary\n",
        "\n",
        "\n",
        "    collected_information_text = \"\".join(all_search_snippets)\n",
        "\n",
        "    if not collected_information_text.strip():\n",
        "        collected_information_text = \"No information could be gathered. Please check the competitor name, ensure SerpApi key is valid, or try providing text manually.\"\n",
        "        print(f\"⚠️ {collected_information_text}\")\n",
        "\n",
        "elif not SERPAPI_API_KEY:\n",
        "    search_summary += \"SerpApi API Key is not configured. Google Search functionality is disabled.\\n\"\n",
        "    collected_information_text = \"SerpApi API Key not set. Please configure it in Step 3 to enable Google Search, or provide information manually.\"\n",
        "    print(f\"⚠️ {collected_information_text}\")\n",
        "else:\n",
        "    search_summary += \"Competitor name not provided. Skipping information gathering.\\n\"\n",
        "    collected_information_text = \"Competitor name not provided in Step 4.\"\n",
        "    print(f\"🛑 {collected_information_text}\")\n",
        "\n",
        "print(\"\\n--- Summary of Information Gathering ---\")\n",
        "display(Markdown(search_summary))\n",
        "# For debugging, you can uncomment the next lines to see the full text passed to the LLM\n",
        "# print(\"\\n--- Full Collected Text (first 2000 chars for LLM input preview) ---\")\n",
        "# display(Markdown(\"```\\n\" + collected_information_text[:2000] + \"\\n```\"))"
      ],
      "metadata": {
        "colab": {
          "base_uri": "https://localhost:8080/",
          "height": 1000
        },
        "id": "pkd4F6_jbaX2",
        "outputId": "e104c179-bf6e-4b91-a164-23a40b040130"
      },
      "execution_count": 9,
      "outputs": [
        {
          "output_type": "stream",
          "name": "stdout",
          "text": [
            "🔎 Searching for information about: Nvidia using SerpApi...\n",
            "   Attempting to fetch content from relevant link: https://www.nvidia.com/en-us/about-nvidia/\n",
            "   Attempting to fetch content from relevant link: https://www.nvidia.com/content/dam/en-zz/Solutions/about-nvidia/corporate-nvidia-in-brief.pdf\n",
            "\n",
            "Attempting to fetch content from main provided URL: [https://www.nvidia.com](https://www.nvidia.com)...\n",
            "⚠️ Invalid URL provided: [https://www.nvidia.com](https://www.nvidia.com)\n",
            "\n",
            "--- Summary of Information Gathering ---\n"
          ]
        },
        {
          "output_type": "display_data",
          "data": {
            "text/plain": [
              "<IPython.core.display.Markdown object>"
            ],
            "text/markdown": "**Fetching Content from main URL [https://www.nvidia.com](https://www.nvidia.com):** Failed or no significant content.\n\n## Searched Information Summary:\n\n**Query:** Nvidia company overview\n  - **About Us: Company Leadership, History, Jobs, News** (https://www.nvidia.com/en-us/about-nvidia/): NVIDIA is the Engine of AI. NVIDIA engineers the most advanced chips, systems, and software for the AI factories of the future. · Reinventing Modern Graphics.\n  - **NVIDIA in Brief** (https://www.nvidia.com/content/dam/en-zz/Solutions/about-nvidia/corporate-nvidia-in-brief.pdf): Founded in 1993, NVIDIA is the world leader in accelerated computing. Our invention of the GPU in 1999 sparked the growth of the PC gaming market,.\n\n**Query:** Nvidia products and services\n  - **NVIDIA: World Leader in Artificial Intelligence Computing** (https://www.nvidia.com/en-us/): Products. Cloud Services Data Center Embedded Systems Gaming and Creating Graphics Cards and GPUs. Laptops Networking Professional Workstations Software Tools.\n  - **Nvidia** (https://en.wikipedia.org/wiki/Nvidia): Nvidia\n\n**Query:** Nvidia official about us\n  - **About Us: Company Leadership, History, Jobs, News** (https://www.nvidia.com/en-us/about-nvidia/): Our Body of Work · NVIDIA is the Engine of AI. NVIDIA engineers the most advanced chips, systems, and software for the AI factories of the future. · Reinventing ...\n     *Successfully fetched content snippet from this link.*\n  - **NVIDIA in Brief** (https://www.nvidia.com/content/dam/en-zz/Solutions/about-nvidia/corporate-nvidia-in-brief.pdf): Founded in 1993, NVIDIA is the world leader in accelerated computing. Our invention of the GPU in 1999 sparked the growth of the PC gaming market,.\n     *Successfully fetched content snippet from this link.*\n\n**Query:** Nvidia news\n  - No organic results found for this query.\n\n**Query:** Nvidia business model analysis\n  - **Nvidia Business Model - How Nvidia Makes Money?** (https://businessmodelanalyst.com/nvidia-business-model/?srsltid=AfmBOoouY6csVHFNu2esH3uC9KKZUd34Tx0weUDwYPOtbL0slp-LNFwC): As a tech giant, the Nvidia business model involves GPU sales. This graphics company gets most of its revenue from selling these specialized ...\n  - **Exploring Nvidia's Business Model and Revenue Streams** (https://www.untaylored.com/post/exploring-nvidia-s-business-model-and-revenue-streams): In conclusion, Nvidia's business model is built on technological leadership, product innovation, and ecosystem development. Their revenue streams from gaming, ...\n\n**Query:** Nvidia SWOT analysis reports\n  - **NVIDIA SWOT Analysis (2025)** (https://businessmodelanalyst.com/nvidia-swot-analysis/?srsltid=AfmBOoqgu3TvxRcVYe9SkUn5ZUdMF69esTorun65oZ18Q8bzg4izk_sZ): This NVIDIA SWOT analysis will examine the company's strengths, weaknesses, opportunities, and threats as it navigates a rapidly evolving technological ...\n  - **NVIDIA SWOT Analysis** (https://thestrategystory.com/blog/nvidia-swot-analysis/): A SWOT analysis is a strategic planning tool used to evaluate the Strengths, Weaknesses, Opportunities, and Threats of a business, project, or individual.\n\n**Query:** Nvidia target market\n  - **NVIDIA Corporation - Home** (https://investor.nvidia.com/home/default.aspx): Our creations are loved by the most demanding computer users in the world – gamers, designers, and scientists.\n\n**Query:** Nvidia AI strategy and datacenter solutions\n  - **Data Centers for the Era of AI Reasoning** (https://www.nvidia.com/en-us/data-center/): The NVIDIA Omniverse™ Blueprint for data center digital twins lets engineers design, test, and optimize AI factories in a digital twin before a single server is ...\n  - **Data Center and AI Infrastructure** (https://www.nvidia.com/en-us/data-center/resources/): Boost efficiency, performance, and cost savings with NVIDIA's full-stack data center solutions for cloud and on-prem infrastructure.\n\n"
          },
          "metadata": {}
        }
      ]
    },
    {
      "cell_type": "code",
      "source": [
        "#@title 6. LLM Analysis & Report Generation\n",
        "\n",
        "#@markdown Select the LLM model (GPT-4 class models are essential for this complex analysis):\n",
        "llm_model_competitor = \"gpt-4-turbo-preview\" #@param [\"gpt-4-turbo-preview\", \"gpt-4\", \"gpt-3.5-turbo\"] # Ensure your API key supports the selected model\n",
        "\n",
        "#@markdown ---\n",
        "#@markdown Select analyses to generate:\n",
        "generate_swot = True #@param {type:\"boolean\"}\n",
        "generate_bmc_elements = True #@param {type:\"boolean\"}\n",
        "generate_strategic_insights = True #@param {type:\"boolean\"}\n",
        "\n",
        "def generate_competitor_report(competitor_name_report, information_text, model_name=\"gpt-4-turbo-preview\", swot=True, bmc=True, insights=True):\n",
        "    if not openai.api_key:\n",
        "        return \"Error: OpenAI API Key not set or invalid. Please configure it in Step 3.\"\n",
        "    if not information_text or information_text.strip() == \"\" or \"No information could be gathered\" in information_text or \"Competitor name not provided\" in information_text or \"SerpApi API Key not set\" in information_text:\n",
        "        return \"Error: Insufficient information gathered about the competitor (possibly due to missing API keys or search issues). Cannot generate report. Please check Step 3 and Step 5 outputs.\"\n",
        "    if not (swot or bmc or insights):\n",
        "        return \"Error: Please select at least one type of analysis to generate (SWOT, BMC Elements, Strategic Insights).\"\n",
        "\n",
        "    sections_requested = []\n",
        "    if swot:\n",
        "        sections_requested.append(\"A SWOT Analysis (Strengths, Weaknesses, Opportunities, Threats). For each point, provide a brief justification based *only* on the provided text.\")\n",
        "    if bmc:\n",
        "        sections_requested.append(\"Key elements for a Business Model Canvas (Value Propositions, Customer Segments, Channels, Key Customer Relationships, Key Activities, Key Resources, Key Partners, Cost Structure, and Revenue Streams). For each element, provide insights based *only* on the provided text. If information for a specific BMC element is not apparent, explicitly state 'Information not apparent in the provided text.'\")\n",
        "    if insights:\n",
        "        sections_requested.append(\"Key Strategic Insights (e.g., competitive advantages, potential risks, market positioning, differentiation strategies). Base these insights *only* on the provided text and justify them briefly.\")\n",
        "\n",
        "    if not sections_requested:\n",
        "        return \"Error: No analysis sections selected.\" # Should be caught by earlier check\n",
        "\n",
        "    analysis_prompt_segment = \"\\n\".join([f\"- {s}\" for s in sections_requested])\n",
        "\n",
        "    prompt = f\"\"\"\n",
        "    You are an expert Market Research Analyst tasked with producing a strategic report on the competitor: \"{competitor_name_report}\".\n",
        "    You have been provided with a compilation of text gathered from web searches and potentially their main website. Your analysis MUST be based *solely* on this provided information. Do not use any external knowledge or make assumptions beyond what is present in the text.\n",
        "\n",
        "    Provided Information for your analysis:\n",
        "    ======================================\n",
        "    {information_text}\n",
        "    ======================================\n",
        "\n",
        "    Based *only* on the \"Provided Information\" above, please generate the following sections for your report:\n",
        "    {analysis_prompt_segment}\n",
        "\n",
        "    Structure your response clearly with Markdown headings for each requested section (e.g., ## SWOT Analysis, ## Business Model Canvas Elements, ## Strategic Insights).\n",
        "    Be objective. If information is sparse for any point, acknowledge it rather than over-speculating.\n",
        "    \"\"\"\n",
        "\n",
        "    print(f\"\\n🤖 Generating competitor report for {competitor_name_report} using {model_name}...\")\n",
        "    print(\"This may take a significant amount of time depending on the information volume and model complexity...\")\n",
        "\n",
        "    try:\n",
        "        response = openai.chat.completions.create(\n",
        "            model=model_name,\n",
        "            messages=[\n",
        "                {\"role\": \"system\", \"content\": f\"You are an expert Market Research Analyst compiling a report on {competitor_name_report}. Your analysis must be strictly based on the text provided by the user.\"},\n",
        "                {\"role\": \"user\", \"content\": prompt}\n",
        "            ],\n",
        "            temperature=0.2, # Lower temperature for more factual, less speculative analysis\n",
        "            max_tokens=3800  # Allow for a comprehensive report\n",
        "        )\n",
        "        report = response.choices[0].message.content\n",
        "        print(\"✅ Competitor report generated.\")\n",
        "        return report\n",
        "    except openai.APIError as e:\n",
        "        return f\"OpenAI API Error: {e}. Check your API key, model access, or usage limits.\"\n",
        "    except Exception as e:\n",
        "        return f\"An unexpected error occurred during LLM call: {e}\"\n",
        "\n",
        "# --- Main execution for this cell ---\n",
        "# Check if competitor_name is valid and information has been collected\n",
        "should_generate_report = False\n",
        "if 'competitor_name' in globals() and competitor_name and competitor_name != \"ExampleCo Inc.\":\n",
        "    if 'collected_information_text' in globals() and \\\n",
        "       collected_information_text.strip() and \\\n",
        "       not (\"No information could be gathered\" in collected_information_text or \\\n",
        "            \"Competitor name not provided\" in collected_information_text or \\\n",
        "            \"SerpApi API Key not set\" in collected_information_text or \\\n",
        "            \"Google Search tool not available\" in collected_information_text): # Basic check that some info was gathered\n",
        "        should_generate_report = True\n",
        "    else:\n",
        "        error_msg_report = \"⚠️ Insufficient information gathered (e.g., search failed, API keys missing, or no data found). Cannot generate report. Please check outputs from Step 3 and Step 5.\"\n",
        "else:\n",
        "    error_msg_report = \"⚠️ Competitor name not set in Step 4. Cannot generate report.\"\n",
        "\n",
        "\n",
        "if should_generate_report:\n",
        "    if openai.api_key: # Check if OpenAI API key is actually set\n",
        "        competitor_report_output = generate_competitor_report(\n",
        "            competitor_name,\n",
        "            collected_information_text,\n",
        "            model_name=llm_model_competitor,\n",
        "            swot=generate_swot,\n",
        "            bmc=generate_bmc_elements,\n",
        "            insights=generate_strategic_insights\n",
        "        )\n",
        "        if competitor_report_output.startswith(\"Error:\"):\n",
        "            print(f\"\\n{competitor_report_output}\") # Error already starts with \"Error:\"\n",
        "            display(Markdown(f\"**{competitor_report_output}**\"))\n",
        "        else:\n",
        "            print(\"\\n--- Competitor Strategic Report ---\")\n",
        "            display(Markdown(competitor_report_output))\n",
        "    else:\n",
        "        error_msg_report = \"🛑 OpenAI API Key not configured. Please set it up in Step 3 to generate the report.\"\n",
        "        print(f\"\\n{error_msg_report}\")\n",
        "        display(Markdown(f\"**{error_msg_report}**\"))\n",
        "else:\n",
        "    # This 'else' corresponds to 'should_generate_report' being false\n",
        "    print(f\"\\n{error_msg_report}\") # Print the relevant error message\n",
        "    display(Markdown(f\"**{error_msg_report}**\"))"
      ],
      "metadata": {
        "colab": {
          "base_uri": "https://localhost:8080/",
          "height": 1000
        },
        "id": "7nG2DQ5Ibubs",
        "outputId": "2a9069ef-fac4-4201-d5cf-3a353188c67e"
      },
      "execution_count": 10,
      "outputs": [
        {
          "output_type": "stream",
          "name": "stdout",
          "text": [
            "\n",
            "🤖 Generating competitor report for Nvidia using gpt-4-turbo-preview...\n",
            "This may take a significant amount of time depending on the information volume and model complexity...\n",
            "✅ Competitor report generated.\n",
            "\n",
            "--- Competitor Strategic Report ---\n"
          ]
        },
        {
          "output_type": "display_data",
          "data": {
            "text/plain": [
              "<IPython.core.display.Markdown object>"
            ],
            "text/markdown": "## SWOT Analysis\n\n### Strengths\n- **Technological Leadership and Innovation**: Nvidia is described as the world leader in accelerated computing and has pioneered advanced chips, systems, and software for AI, indicating a strong position in technology and innovation.\n- **Diverse Product Portfolio**: The company offers a wide range of products including cloud services, data centers, embedded systems, gaming and creating graphics cards and GPUs, laptops, networking, professional workstations, and software tools, showcasing a diversified product portfolio.\n- **AI and Digital Twins**: Nvidia is transforming industries with its work in AI and digital twins, indicating a strong foothold in future technologies.\n\n### Weaknesses\n- **High Dependence on AI and Advanced Technologies**: Nvidia's strong focus on AI and advanced technologies might expose the company to risks associated with rapid technological changes and the need for continuous heavy investment in R&D.\n- **Information not apparent in the provided text**: Specific weaknesses related to operational, financial, or market challenges are not detailed in the provided text.\n\n### Opportunities\n- **Expansion in AI and Digitalization**: The ongoing transformation of industries through AI and digitalization presents significant growth opportunities for Nvidia, especially in automotive, healthcare, and data centers.\n- **Growth in Gaming and Professional Workstations**: The company's foundation in GPU invention and its role in sparking the growth of the PC gaming market suggest opportunities for further expansion in gaming and professional workstations.\n\n### Threats\n- **Rapid Technological Changes**: The fast pace of technological advancements in AI and computing may pose a threat to Nvidia if it fails to keep up with or lead in innovation.\n- **Competitive Market**: While not explicitly mentioned, the technology and AI sectors are highly competitive, and Nvidia faces the threat of competition from existing and new entrants.\n\n## Business Model Canvas Elements\n\n### Value Propositions\n- Nvidia offers the most advanced chips, systems, and software for AI, aiming to transform industries with AI and digital twins. It also focuses on reinventing modern graphics with technologies like NVIDIA RTX™.\n\n### Customer Segments\n- Industries grounded in physical processes looking to become software-defined (e.g., automotive, healthcare).\n- Gamers, designers, scientists, and professional workstation users who demand high computing performance.\n\n### Channels\n- Information not apparent in the provided text.\n\n### Key Customer Relationships\n- Information not apparent in the provided text.\n\n### Key Activities\n- Designing and engineering advanced chips, systems, and software for AI and modern graphics.\n- Research and development in AI technologies and digital twins.\n\n### Key Resources\n- Advanced technology in AI and computing.\n- Expertise in GPU technology and accelerated computing.\n\n### Key Partners\n- Information not apparent in the provided text.\n\n### Cost Structure\n- Likely includes significant investments in research and development, manufacturing of advanced technology components, and possibly marketing and sales activities.\n\n### Revenue Streams\n- Sales of GPUs and other computing hardware.\n- Cloud services, data center solutions, and software tools.\n\n## Strategic Insights\n\n- **Competitive Advantage through Technological Leadership**: Nvidia's pioneering work in GPUs and AI positions it as a leader in accelerated computing, providing a competitive edge in technology-intensive markets.\n- **Potential Risks from Rapid Technological Changes**: The company's focus on advanced technologies exposes it to risks associated with the fast pace of innovation in AI and computing. Staying ahead requires continuous investment in R&D.\n- **Market Positioning in AI and Digitalization**: Nvidia is well-positioned to benefit from the digital transformation of industries through AI and digital twins, indicating a strategic focus on sectors with high growth potential.\n- **Differentiation Strategy through Innovation**: Nvidia differentiates itself through product innovation, particularly in AI-powered graphics and industrial digitalization, catering to the needs of a diverse range of high-demand computing users."
          },
          "metadata": {}
        }
      ]
    }
  ]
}