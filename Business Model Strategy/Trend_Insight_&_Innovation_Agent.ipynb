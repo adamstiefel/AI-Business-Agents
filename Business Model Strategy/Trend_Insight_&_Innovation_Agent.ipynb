{
  "nbformat": 4,
  "nbformat_minor": 0,
  "metadata": {
    "colab": {
      "provenance": [],
      "authorship_tag": "ABX9TyNY77JlYUA0RQfAJv3N/68r",
      "include_colab_link": true
    },
    "kernelspec": {
      "name": "python3",
      "display_name": "Python 3"
    },
    "language_info": {
      "name": "python"
    }
  },
  "cells": [
    {
      "cell_type": "markdown",
      "metadata": {
        "id": "view-in-github",
        "colab_type": "text"
      },
      "source": [
        "<a href=\"https://colab.research.google.com/github/adamstiefel/AI-Business-Agents/blob/main/Trend_Insight_%26_Innovation_Agent.ipynb\" target=\"_parent\"><img src=\"https://colab.research.google.com/assets/colab-badge.svg\" alt=\"Open In Colab\"/></a>"
      ]
    },
    {
      "cell_type": "markdown",
      "source": [
        "# 🔭 Trend Insight & Innovation Agent ✨\n",
        "\n",
        "## Goal\n",
        "To aggregate information on current market trends (from news, articles, etc.) relevant to a user's industry or area of interest, and then utilize a Large Language Model (LLM) to synthesize these trends and propose potential business pivots or innovation ideas.\n",
        "\n",
        "## How this \"Makes Money\" (Delivers Business Value)\n",
        "\n",
        "* 🚀 **Identify New Growth Opportunities:** Uncover emerging market needs, shifts in consumer behavior, and technological advancements that can be leveraged for new products, services, or entirely new business ventures.\n",
        "* 🛡️ **Proactive Risk Mitigation:** Identify disruptive trends early, allowing businesses to adapt their strategies, mitigate potential threats, and avoid becoming obsolete.\n",
        "* 🧭 **Inform Strategic Planning & Investment:** Provide data-backed insights derived from current trends to guide long-term strategic planning, R&D efforts, and investment decisions.\n",
        "* 💡 **Spark Innovation & Creativity:** Act as a catalyst for brainstorming sessions and inspire new ideas by presenting potential future scenarios and opportunities.\n",
        "* 📈 **Maintain Competitive Edge:** Help businesses anticipate market shifts and position themselves strategically ahead of competitors who might be slower to adapt.\n",
        "* 🔄 **Foster Adaptability & Resilience:** Encourage a forward-thinking mindset and build a more adaptable business model capable of thriving in a changing landscape.\n",
        "* 🆕 **Discover Untapped Niches:** Trends can often highlight underserved or emerging customer segments and needs.\n",
        "\n",
        "---\n",
        "**Important Note:** This AI agent synthesizes information from publicly accessible web data and uses an LLM to generate trend summaries and innovation ideas. These outputs are intended to be **thought-starters and a basis for further research and strategic discussion**. They require critical human evaluation, validation, and tailoring to specific business contexts.\n",
        "---"
      ],
      "metadata": {
        "id": "6AqdW4XSiNhV"
      }
    },
    {
      "cell_type": "code",
      "source": [
        "#@title 2. Setup and Installations\n",
        "# --- Install necessary libraries ---\n",
        "!pip install openai requests beautifulsoup4 google-search-results -q\n",
        "\n",
        "import openai\n",
        "import requests\n",
        "from bs4 import BeautifulSoup\n",
        "import json # For handling potential JSON in search results\n",
        "import re # For cleaning text\n",
        "from IPython.display import display, Markdown, HTML\n",
        "from google.colab import userdata # For API keys\n",
        "from serpapi import GoogleSearch # For using SerpApi for Google Search\n",
        "\n",
        "print(\"Libraries installed/available and imported.\")"
      ],
      "metadata": {
        "colab": {
          "base_uri": "https://localhost:8080/"
        },
        "id": "GSAc8yY7iPAn",
        "outputId": "343c6e9b-2bb9-4116-cc3e-d4cb40aa7f77"
      },
      "execution_count": 1,
      "outputs": [
        {
          "output_type": "stream",
          "name": "stdout",
          "text": [
            "  Preparing metadata (setup.py) ... \u001b[?25l\u001b[?25hdone\n",
            "  Building wheel for google-search-results (setup.py) ... \u001b[?25l\u001b[?25hdone\n",
            "Libraries installed/available and imported.\n"
          ]
        }
      ]
    },
    {
      "cell_type": "code",
      "source": [
        "#@title 3. API Key Configuration\n",
        "# --- Configure your OpenAI API Key ---\n",
        "OPENAI_API_KEY = None\n",
        "try:\n",
        "    OPENAI_API_KEY = userdata.get('OPENAI_API_KEY')\n",
        "    if OPENAI_API_KEY:\n",
        "        openai.api_key = OPENAI_API_KEY\n",
        "        print(\"✅ OpenAI API Key loaded successfully from Colab Secrets.\")\n",
        "    else:\n",
        "        print(\"⚠️ OpenAI API Key not found in Colab Secrets. Please add it if you intend to use OpenAI.\")\n",
        "except Exception as e:\n",
        "    print(f\"⚠️ Error accessing Colab Secrets for OpenAI: {e}. You may need to set the key manually if continuing without secrets.\")\n",
        "\n",
        "if not openai.api_key: # Check if it was actually set after try-except\n",
        "    print(\"🛑 OpenAI API Key is NOT SET. LLM functionality requiring OpenAI will not work unless set manually later.\")\n",
        "\n",
        "# --- Configure your SerpApi API Key (for Google Search) ---\n",
        "SERPAPI_API_KEY = None\n",
        "try:\n",
        "    SERPAPI_API_KEY = userdata.get('SERPAPI_API_KEY')\n",
        "    if SERPAPI_API_KEY:\n",
        "        print(\"✅ SerpApi API Key loaded successfully from Colab Secrets.\")\n",
        "    else:\n",
        "        print(\"⚠️ SerpApi API Key not found in Colab Secrets. Google Search functionality will be limited or disabled unless set manually.\")\n",
        "except Exception as e:\n",
        "    print(f\"⚠️ Error accessing Colab Secrets for SerpApi: {e}. You may need to set the key manually.\")\n",
        "\n",
        "if not SERPAPI_API_KEY:\n",
        "    print(\"🛑 SerpApi API Key is NOT SET. Google Search using SerpApi will not work.\")"
      ],
      "metadata": {
        "colab": {
          "base_uri": "https://localhost:8080/"
        },
        "id": "Epmo9chfiPOg",
        "outputId": "5d070d98-4d8a-475e-973b-7935377c92d7"
      },
      "execution_count": 2,
      "outputs": [
        {
          "output_type": "stream",
          "name": "stdout",
          "text": [
            "✅ OpenAI API Key loaded successfully from Colab Secrets.\n",
            "✅ SerpApi API Key loaded successfully from Colab Secrets.\n"
          ]
        }
      ]
    },
    {
      "cell_type": "code",
      "source": [
        "#@title 4. User Input: Business Context & Trend Focus\n",
        "\n",
        "#@markdown Please describe your current industry, business, or area of interest for trend analysis:\n",
        "#@markdown (e.g., \"Sustainable aashion retail\", \"B2B SaaS for project management\", \"The future of urban mobility\")\n",
        "business_context = \"Sustainable fashion retail\" #@param {type:\"string\"}\n",
        "\n",
        "#@markdown (Optional) List any specific keywords, technologies, or topics you want to focus the trend research on:\n",
        "#@markdown (e.g., \"AI in retail, circular economy, blockchain for supply chains\", \"metaverse applications\")\n",
        "specific_trend_keywords = \"circular economy, textile recycling, AI for personalized recommendations, ethical sourcing\" #@param {type:\"string\"}\n",
        "\n",
        "#@markdown (Optional) How many key trends do you want the AI to try and summarize?\n",
        "num_trends_to_summarize = 5 #@param {type:\"slider\", min:3, max:10, step:1}\n",
        "\n",
        "#@markdown (Optional) How many pivot/innovation ideas do you want the AI to propose?\n",
        "num_ideas_to_propose = 3 #@param {type:\"slider\", min:2, max:5, step:1}\n",
        "\n",
        "\n",
        "if not business_context or business_context == \"e.g., Sustainable fashion retail\": # Basic check\n",
        "    print(\"⚠️ Please enter a valid industry, business, or area of interest.\")\n",
        "else:\n",
        "    print(f\"✅ Analyzing trends relevant to: {business_context}\")\n",
        "    if specific_trend_keywords:\n",
        "        print(f\"   Focusing on keywords: {specific_trend_keywords}\")"
      ],
      "metadata": {
        "colab": {
          "base_uri": "https://localhost:8080/"
        },
        "id": "-pXyrpFAiPhA",
        "outputId": "b287fbbb-ac88-4fca-d660-36a6397aa824"
      },
      "execution_count": 3,
      "outputs": [
        {
          "output_type": "stream",
          "name": "stdout",
          "text": [
            "✅ Analyzing trends relevant to: Sustainable fashion retail\n",
            "   Focusing on keywords: circular economy, textile recycling, AI for personalized recommendations, ethical sourcing\n"
          ]
        }
      ]
    },
    {
      "cell_type": "code",
      "source": [
        "#@title 5. Information Gathering: Aggregating Trend Data\n",
        "\n",
        "# --- Helper function to fetch and parse a single URL (basic) ---\n",
        "def fetch_url_content_for_trends(url):\n",
        "    \"\"\"Fetches and parses text content from a single URL. Basic version.\"\"\"\n",
        "    if not url or not url.startswith(('http://', 'https://')):\n",
        "        print(f\"⚠️ Invalid URL provided for trend fetching: {url}\")\n",
        "        return None\n",
        "    try:\n",
        "        headers = {\n",
        "            'User-Agent': 'Mozilla/5.0 (Windows NT 10.0; Win64; x64) AppleWebKit/537.36 (KHTML, like Gecko) Chrome/91.0.4472.124 Safari/537.36'\n",
        "        }\n",
        "        response = requests.get(url, headers=headers, timeout=15)\n",
        "        response.raise_for_status()\n",
        "        soup = BeautifulSoup(response.text, 'html.parser')\n",
        "        for script_or_style in soup([\"script\", \"style\", \"header\", \"footer\", \"nav\", \"aside\", \"form\", \"button\"]):\n",
        "            script_or_style.decompose()\n",
        "        text = soup.get_text(separator='\\n', strip=True)\n",
        "        text = re.sub(r'\\n\\s*\\n+', '\\n', text) # Reduce multiple blank lines\n",
        "        return text[:15000] # Limit content length per article\n",
        "    except requests.exceptions.RequestException as e:\n",
        "        print(f\"⚠️ Error fetching URL {url}: {e}\")\n",
        "        return None\n",
        "    except Exception as e:\n",
        "        print(f\"⚠️ Error parsing URL {url}: {e}\")\n",
        "        return None\n",
        "\n",
        "# --- Gather information using Google Search (SerpApi) ---\n",
        "aggregated_trend_text = \"\"\n",
        "search_activity_summary = \"## Trend Search Activity Summary:\\n\\n\"\n",
        "\n",
        "if SERPAPI_API_KEY and business_context and business_context != \"e.g., Sustainable fashion retail\":\n",
        "    print(f\"🔎 Searching for trends related to: {business_context} using SerpApi...\")\n",
        "\n",
        "    base_queries = [\n",
        "        f\"latest market trends in {business_context}\",\n",
        "        f\"future of {business_context}\",\n",
        "        f\"innovations in {business_context}\",\n",
        "        f\"{business_context} industry analysis reports summary\",\n",
        "        f\"{business_context} consumer behavior shifts\"\n",
        "    ]\n",
        "    if specific_trend_keywords:\n",
        "        for keyword in specific_trend_keywords.split(','):\n",
        "            base_queries.append(f\"{keyword.strip()} impact on {business_context}\")\n",
        "            base_queries.append(f\"latest news {keyword.strip()}\")\n",
        "\n",
        "\n",
        "    all_snippets_and_content = []\n",
        "    fetched_trend_urls = set() # To avoid fetching the same URL multiple times\n",
        "\n",
        "    for query_idx, query in enumerate(base_queries[:8]): # Limit number of queries to manage API usage & time\n",
        "        search_activity_summary += f\"**Query {query_idx+1}:** {query}\\n\"\n",
        "        print(f\"Executing search query: {query}\")\n",
        "        try:\n",
        "            params = {\n",
        "                \"q\": query,\n",
        "                \"api_key\": SERPAPI_API_KEY,\n",
        "                \"num\": 5, # Get top 5 results\n",
        "                \"tbm\": \"nws\" if \"news\" in query.lower() else None # Search news for news queries\n",
        "            }\n",
        "            params = {k: v for k, v in params.items() if v is not None} # Remove None values\n",
        "\n",
        "            search = GoogleSearch(params)\n",
        "            results = search.get_dict()\n",
        "\n",
        "            search_results = results.get(\"organic_results\", [])\n",
        "            if \"news_results\" in results: # Prefer news_results if available\n",
        "                search_results.extend(results.get(\"news_results\", []))\n",
        "\n",
        "            if search_results:\n",
        "                for result_idx, result in enumerate(search_results[:2]): # Process top 2 results from this query\n",
        "                    title = result.get(\"title\", \"No Title\")\n",
        "                    link = result.get(\"link\", \"#\")\n",
        "                    snippet = result.get(\"snippet\", result.get(\"title\", \"No snippet available.\"))\n",
        "                    source = result.get(\"source\", result.get(\"publication_info\", {}).get(\"summary\", \"Unknown Source\"))\n",
        "\n",
        "                    search_activity_summary += f\"  - **{title}** (Source: {source}, Link: {link})\\n    Snippet: {snippet}\\n\"\n",
        "                    current_info = f\"Trend Source Title: {title}\\nSource: {source}\\nLink: {link}\\nSnippet: {snippet}\\n\\n\"\n",
        "\n",
        "                    if link and link not in fetched_trend_urls and link != \"#\":\n",
        "                        print(f\"   Attempting to fetch content from: {link}\")\n",
        "                        content = fetch_url_content_for_trends(link)\n",
        "                        if content:\n",
        "                            current_info += f\"Fetched Content from {link} (first 1000 chars):\\n{content[:1000]}...\\n\\n---\\n\\n\"\n",
        "                            search_activity_summary += f\"     *Successfully fetched content snippet from this link.*\\n\"\n",
        "                        else:\n",
        "                            search_activity_summary += f\"     *Failed to fetch significant content from this link or content was short.*\\n\"\n",
        "                        fetched_trend_urls.add(link)\n",
        "\n",
        "                    all_snippets_and_content.append(current_info)\n",
        "            else:\n",
        "                search_activity_summary += \"  - No relevant results found for this query.\\n\"\n",
        "        except Exception as e:\n",
        "            search_activity_summary += f\"  - Error during search for query '{query}': {str(e)[:200]}\\n\" # Truncate long errors\n",
        "        search_activity_summary += \"\\n\"\n",
        "\n",
        "    aggregated_trend_text = \"\".join(all_snippets_and_content)\n",
        "\n",
        "    if not aggregated_trend_text.strip():\n",
        "        aggregated_trend_text = \"No substantial trend information could be gathered via automated search. Please try broader keywords or ensure API keys are correct. You might need to provide trend information manually.\"\n",
        "        print(f\"⚠️ {aggregated_trend_text}\")\n",
        "\n",
        "elif not SERPAPI_API_KEY:\n",
        "    search_activity_summary += \"SerpApi API Key is not configured. Google Search functionality is disabled.\\n\"\n",
        "    aggregated_trend_text = \"SerpApi API Key not set. Trend aggregation via Google Search is disabled.\"\n",
        "    print(f\"⚠️ {aggregated_trend_text}\")\n",
        "else:\n",
        "    search_activity_summary += \"Business context not provided. Skipping trend aggregation.\\n\"\n",
        "    aggregated_trend_text = \"Business context not provided in Step 4.\"\n",
        "    print(f\"🛑 {aggregated_trend_text}\")\n",
        "\n",
        "print(\"\\n--- Summary of Trend Information Gathering Activity ---\")\n",
        "display(Markdown(search_activity_summary))\n",
        "# For debugging, you can uncomment to see the full text\n",
        "# print(\"\\n--- Full Aggregated Trend Text (first 2000 chars for LLM input preview) ---\")\n",
        "# display(Markdown(\"```\\n\" + aggregated_trend_text[:2000] + \"\\n```\"))"
      ],
      "metadata": {
        "colab": {
          "base_uri": "https://localhost:8080/",
          "height": 1000
        },
        "id": "XhyC5ipdiPo-",
        "outputId": "c0dc3d32-482d-4240-e8a0-eebec5bab5a8"
      },
      "execution_count": 4,
      "outputs": [
        {
          "output_type": "stream",
          "name": "stdout",
          "text": [
            "🔎 Searching for trends related to: Sustainable fashion retail using SerpApi...\n",
            "Executing search query: latest market trends in Sustainable fashion retail\n",
            "   Attempting to fetch content from: https://www.mckinsey.com/featured-insights/the-next-normal/fashion\n",
            "   Attempting to fetch content from: https://www.lightspeedhq.com/blog/sustainable-fashion-trends/\n",
            "Executing search query: future of Sustainable fashion retail\n",
            "   Attempting to fetch content from: https://www.forbes.com/sites/jillstandish/2024/05/15/whats-next-for-sustainable-fashion/\n",
            "Executing search query: innovations in Sustainable fashion retail\n",
            "   Attempting to fetch content from: https://www.weforum.org/stories/2024/07/secondhand-clothes-sustainable-fashion-circular-economy/\n",
            "⚠️ Error fetching URL https://www.weforum.org/stories/2024/07/secondhand-clothes-sustainable-fashion-circular-economy/: 403 Client Error: Forbidden for url: https://www.weforum.org/stories/2024/07/secondhand-clothes-sustainable-fashion-circular-economy/\n",
            "   Attempting to fetch content from: https://www.4ocean.com/blogs/industry-news/sustainable-fashion-innovations-in-eco-friendly-textiles?srsltid=AfmBOopMFNWe-5sp-LEys4SchDECIDVkWeqwx3Pk188BSw_H9NRXCY7U\n",
            "Executing search query: Sustainable fashion retail industry analysis reports summary\n",
            "   Attempting to fetch content from: https://www.rootsanalysis.com/sustainable-fashion-market\n",
            "⚠️ Error fetching URL https://www.rootsanalysis.com/sustainable-fashion-market: ('Connection aborted.', RemoteDisconnected('Remote end closed connection without response'))\n",
            "   Attempting to fetch content from: https://www.statista.com/topics/9543/sustainable-fashion-worldwide/\n",
            "Executing search query: Sustainable fashion retail consumer behavior shifts\n",
            "   Attempting to fetch content from: https://www.cpkrell.com/the-rise-of-sustainable-fashion-a-shift-in-western-consumer-behavior/\n",
            "   Attempting to fetch content from: https://www.sciencedirect.com/science/article/pii/S0959652624036813\n",
            "⚠️ Error fetching URL https://www.sciencedirect.com/science/article/pii/S0959652624036813: 400 Client Error: Bad Request for url: https://www.sciencedirect.com/unsupported_browser\n",
            "Executing search query: circular economy impact on Sustainable fashion retail\n",
            "   Attempting to fetch content from: https://www.ellenmacarthurfoundation.org/topics/fashion/overview\n",
            "   Attempting to fetch content from: https://www.thesustainablefashionforum.com/pages/what-is-circular-fashion\n",
            "Executing search query: latest news circular economy\n",
            "   Attempting to fetch content from: https://interplasinsights.com/plastics-environment-news/latest-circular-economy-plastics-recycling-news/can-upstream-innovation-be-the-key-to-the-circular-economy/\n",
            "   Attempting to fetch content from: https://www.edie.net/new-report-outlines-how-your-organisation-can-deliver-circular-economy-progress/\n",
            "⚠️ Error fetching URL https://www.edie.net/new-report-outlines-how-your-organisation-can-deliver-circular-economy-progress/: 403 Client Error: Forbidden for url: https://www.edie.net/new-report-outlines-how-your-organisation-can-deliver-circular-economy-progress/\n",
            "Executing search query: textile recycling impact on Sustainable fashion retail\n",
            "   Attempting to fetch content from: https://www.projectcece.com/blog/586/recycling-in-fashion/\n",
            "   Attempting to fetch content from: https://www.weforum.org/stories/2023/08/textile-recycling-create-jobs-reduce-pollution/\n",
            "⚠️ Error fetching URL https://www.weforum.org/stories/2023/08/textile-recycling-create-jobs-reduce-pollution/: 403 Client Error: Forbidden for url: https://www.weforum.org/stories/2023/08/textile-recycling-create-jobs-reduce-pollution/\n",
            "\n",
            "--- Summary of Trend Information Gathering Activity ---\n"
          ]
        },
        {
          "output_type": "display_data",
          "data": {
            "text/plain": [
              "<IPython.core.display.Markdown object>"
            ],
            "text/markdown": "## Trend Search Activity Summary:\n\n**Query 1:** latest market trends in Sustainable fashion retail\n  - **The Next Normal – The future of fashion: Sustainable ...** (Source: McKinsey & Company, Link: https://www.mckinsey.com/featured-insights/the-next-normal/fashion)\n    Snippet: Under the current trajectory, the fashion industry misses the 1.5ºC pathway by 50 percent and abates only emissions from incremental growth.\n     *Successfully fetched content snippet from this link.*\n  - **5 Sustainable Fashion Trends Every Retailer Should Watch** (Source: Lightspeed, Link: https://www.lightspeedhq.com/blog/sustainable-fashion-trends/)\n    Snippet: Key trends include circular fashion through resale, rental and repair, the growing demand for secondhand shopping and innovations in eco-friendly materials.\n     *Successfully fetched content snippet from this link.*\n\n**Query 2:** future of Sustainable fashion retail\n  - **What's Next For Sustainable Fashion?** (Source: Forbes, Link: https://www.forbes.com/sites/jillstandish/2024/05/15/whats-next-for-sustainable-fashion/)\n    Snippet: Across retail, businesses are responding to the current macro-economic environment by prioritizing resilience, efficiency, and profitability.\n     *Successfully fetched content snippet from this link.*\n  - **The Next Normal – The future of fashion: Sustainable ...** (Source: McKinsey & Company, Link: https://www.mckinsey.com/featured-insights/the-next-normal/fashion)\n    Snippet: Under the current trajectory, the fashion industry misses the 1.5ºC pathway by 50 percent and abates only emissions from incremental growth.\n\n**Query 3:** innovations in Sustainable fashion retail\n  - **4 innovations helping to green the fashion industry** (Source: The World Economic Forum, Link: https://www.weforum.org/stories/2024/07/secondhand-clothes-sustainable-fashion-circular-economy/)\n    Snippet: Planting leather and textiles · Identifying clothing's circular economy · Reducing excess inventory · Up-cycling old fashion.\n     *Failed to fetch significant content from this link or content was short.*\n  - **Sustainable Fashion: Innovations in Eco-Friendly Textiles** (Source: 4Ocean, Link: https://www.4ocean.com/blogs/industry-news/sustainable-fashion-innovations-in-eco-friendly-textiles?srsltid=AfmBOopMFNWe-5sp-LEys4SchDECIDVkWeqwx3Pk188BSw_H9NRXCY7U)\n    Snippet: 3D printing, too, is making a significant impact on sustainable fashion by enabling on-demand production, which minimizes excess inventory and ...\n     *Successfully fetched content snippet from this link.*\n\n**Query 4:** Sustainable fashion retail industry analysis reports summary\n  - **Sustainable Fashion Market Size, Share & Industry Analysis** (Source: Roots Analysis, Link: https://www.rootsanalysis.com/sustainable-fashion-market)\n    Snippet: The sustainable fashion market size is projected to grow from USD 8.04 billion in 2024 to USD 58.03 trillion by 2035, representing a strong CAGR of 19.68%.\n     *Failed to fetch significant content from this link or content was short.*\n  - **Sustainable fashion worldwide - statistics & facts** (Source: Statista, Link: https://www.statista.com/topics/9543/sustainable-fashion-worldwide/)\n    Snippet: The sales share of sustainable clothing has steadily risen over the past decade, and the trend is forecast to continue, with the market share set to reach over ...\n     *Successfully fetched content snippet from this link.*\n\n**Query 5:** Sustainable fashion retail consumer behavior shifts\n  - **The rise of sustainable fashion: a shift in western consumer ...** (Source: cp&krell, Link: https://www.cpkrell.com/the-rise-of-sustainable-fashion-a-shift-in-western-consumer-behavior/)\n    Snippet: Consumers now prioritize brands that source materials responsibly, reduce waste, and promote recycling and upcycling.\n     *Successfully fetched content snippet from this link.*\n  - **How can consumers behave sustainably in the fashion ...** (Source: ScienceDirect.com, Link: https://www.sciencedirect.com/science/article/pii/S0959652624036813)\n    Snippet: This study aims to systematically review the literature related to sustainable consumer behavior in the fashion industry.\n     *Failed to fetch significant content from this link or content was short.*\n\n**Query 6:** circular economy impact on Sustainable fashion retail\n  - **Fashion and a circular economy** (Source: Ellen MacArthur Foundation, Link: https://www.ellenmacarthurfoundation.org/topics/fashion/overview)\n    Snippet: Achieving a circular economy can have huge benefits. Fashion businesses can reduce their exposure to raw material supply disruptions and price volatility in a ...\n     *Successfully fetched content snippet from this link.*\n  - **What is Circular Fashion?** (Source: The Sustainable Fashion Forum, Link: https://www.thesustainablefashionforum.com/pages/what-is-circular-fashion)\n    Snippet: Circular fashion refers to an approach within the fashion industry that aims to create a closed-loop system, reducing waste and maximizing the lifespan of ...\n     *Successfully fetched content snippet from this link.*\n\n**Query 7:** latest news circular economy\n  - **Can upstream innovation be the key to the circular economy?** (Source: Interplas Insights, Link: https://interplasinsights.com/plastics-environment-news/latest-circular-economy-plastics-recycling-news/can-upstream-innovation-be-the-key-to-the-circular-economy/)\n    Snippet: BP&R Editor Giulia Daniele speaks with Emily Amann, Director of Climate KIC's Entrepreneurship team, about how upstream innovation can be...\n     *Successfully fetched content snippet from this link.*\n  - **New report outlines how your organisation can deliver circular economy progress** (Source: edie, Link: https://www.edie.net/new-report-outlines-how-your-organisation-can-deliver-circular-economy-progress/)\n    Snippet: edie has partnered with Reconomy to publish a new, free-to-access report providing businesses of all sizes and sectors with best-practice...\n     *Failed to fetch significant content from this link or content was short.*\n\n**Query 8:** textile recycling impact on Sustainable fashion retail\n  - **Recycling in Fashion: Can It Solve Its Environmental ...** (Source: Project Cece, Link: https://www.projectcece.com/blog/586/recycling-in-fashion/)\n    Snippet: Recycling clothes prolongs their lifecycle and reduces waste · It means we need less new fabric · Brands and designers are coming up with new ways ...\n     *Successfully fetched content snippet from this link.*\n  - **Here's how textile recycling can create jobs and reduce ...** (Source: The World Economic Forum, Link: https://www.weforum.org/stories/2023/08/textile-recycling-create-jobs-reduce-pollution/)\n    Snippet: Textile recycling can help to reduce the amount of textile waste that ends up in landfills, save resources and improve working conditions ...\n     *Failed to fetch significant content from this link or content was short.*\n\n"
          },
          "metadata": {}
        }
      ]
    },
    {
      "cell_type": "code",
      "execution_count": 5,
      "metadata": {
        "colab": {
          "base_uri": "https://localhost:8080/",
          "height": 1000
        },
        "id": "mTFJSY-chtML",
        "outputId": "8e502b29-b632-42a3-9cdc-cdb6f1748a22"
      },
      "outputs": [
        {
          "output_type": "stream",
          "name": "stdout",
          "text": [
            "\n",
            "🤖 Analyzing trends and generating innovation proposals for 'Sustainable fashion retail' using gpt-4-turbo-preview...\n",
            "   Summarizing up to 5 trends and proposing up to 3 ideas.\n",
            "This may take a significant amount of time...\n",
            "✅ Trend analysis and innovation proposals generated.\n",
            "\n",
            "--- Trend Insights & Innovation/Pivot Proposals ---\n"
          ]
        },
        {
          "output_type": "display_data",
          "data": {
            "text/plain": [
              "<IPython.core.display.Markdown object>"
            ],
            "text/markdown": "# Top 5 Key Market Trends Summary:\n\n## 1. **Circular Fashion & Waste Reduction**\nCircular fashion, including resale, rental, and repair models, is a growing trend aiming to create a closed-loop system in the industry. This trend is supported by consumer demand for secondhand shopping and innovations that minimize waste, such as upcycling old fashion and reducing excess inventory through on-demand production methods like 3D printing.\n\n## 2. **Innovations in Eco-Friendly Materials**\nThere's a significant shift towards using sustainable materials in fashion. Innovations include the development of eco-friendly textiles like organic cotton, hemp, and bamboo, and more novel approaches such as 3D printed materials and plant-based leathers. These materials aim to reduce the environmental impact of production and create more sustainable products.\n\n## 3. **Consumer Demand for Ethical Practices**\nConsumers are increasingly prioritizing brands that source materials responsibly, promote recycling and upcycling, and maintain transparency about their production processes. This trend is driven by a heightened awareness of the fashion industry’s environmental and social impacts, leading to a demand for more ethical and sustainable fashion choices.\n\n## 4. **Sustainable Fashion Market Growth**\nThe sustainable fashion market is projected to experience significant growth, with estimates suggesting a rise from USD 8.04 billion in 2024 to USD 58.03 trillion by 2035. This indicates a strong consumer interest and market potential for sustainable fashion products and brands.\n\n## 5. **Textile Recycling & Job Creation**\nTextile recycling not only helps to reduce waste and save resources but also has the potential to improve working conditions and create jobs. This trend underscores the importance of recycling in the sustainable fashion industry, highlighting both environmental and social benefits.\n\n# 3 Potential Pivot/Innovation Ideas for \"Sustainable fashion retail\":\n\n## Idea 1: **Circular Fashion Subscription Service**\n\n### Link to Trend(s):\nCircular Fashion & Waste Reduction\n\n### Description of Pivot/Innovation:\nLaunch a subscription-based service that allows customers to rent, return, and swap sustainable fashion items. This service could include a repair feature to extend the lifespan of garments and accessories, promoting a circular economy within the fashion industry.\n\n### Potential Value/Opportunity:\nThis service addresses the growing consumer interest in sustainable and circular fashion practices by providing a convenient, cost-effective way to enjoy eco-friendly fashion. It also aligns with the trend of reducing waste and promoting the reuse and recycling of garments.\n\n### Key Considerations/Initial Steps:\n- **Sourcing Sustainable Fashion Items:** Partner with sustainable fashion brands and designers to source items.\n- **Logistics and Repair Facilities:** Establish a system for managing rentals, returns, and repairs efficiently.\n\n## Idea 2: **Eco-Friendly Material Innovation Lab**\n\n### Link to Trend(s):\nInnovations in Eco-Friendly Materials\n\n### Description of Pivot/Innovation:\nCreate an innovation lab dedicated to researching and developing new sustainable materials for the fashion industry. This could involve collaborations with scientists, designers, and environmental organizations to pioneer the next generation of eco-friendly textiles.\n\n### Potential Value/Opportunity:\nThis lab could position the business as a leader in sustainable fashion innovation, creating new materials that reduce environmental impact and meet consumer demand for ethical products. It could also open up new revenue streams through patents and material sales to other brands.\n\n### Key Considerations/Initial Steps:\n- **Funding and Partnerships:** Secure funding for research and development and establish partnerships for material testing and certification.\n- **Market Analysis:** Conduct market research to identify gaps and opportunities in the sustainable materials market.\n\n## Idea 3: **Transparent Supply Chain Platform**\n\n### Link to Trend(s):\nConsumer Demand for Ethical Practices\n\n### Description of Pivot/Innovation:\nDevelop a digital platform that provides consumers with transparent information about the sourcing, production, and environmental impact of fashion items. This could include details about material origins, factory conditions, and carbon footprints.\n\n### Potential Value/Opportunity:\nThis platform responds to the consumer demand for transparency and ethical production in the fashion industry. It could enhance brand trust and loyalty by providing clear, accessible information about the sustainability of products.\n\n### Key Considerations/Initial Steps:\n- **Technology Development:** Build a user-friendly digital platform that can integrate with existing supply chain management systems.\n- **Collaboration with Suppliers:** Work closely with suppliers to ensure accurate and comprehensive data is available for consumers.\n\nEach of these ideas leverages current market trends in sustainable fashion, offering innovative ways to meet consumer demand, reduce environmental impact, and create value in the sustainable fashion retail sector."
          },
          "metadata": {}
        }
      ],
      "source": [
        "#@title 6. Trend Analysis & Innovation/Pivot Proposals\n",
        "\n",
        "#@markdown Select the LLM model (GPT-4 class models are ESSENTIAL for insightful trend analysis and strategic proposals):\n",
        "llm_model_trends = \"gpt-4-turbo-preview\" #@param [\"gpt-4-turbo-preview\", \"gpt-4\", \"gpt-3.5-turbo\"]\n",
        "\n",
        "def generate_trend_insights_and_proposals(user_business_context, trend_information_text, num_trends=5, num_proposals=3, model_name=\"gpt-4-turbo-preview\"):\n",
        "    if not openai.api_key:\n",
        "        return \"Error: OpenAI API Key not set or invalid. Please configure it in Step 3.\"\n",
        "    if not user_business_context or user_business_context.strip() == \"\" or user_business_context == \"e.g., Sustainable fashion retail\":\n",
        "        return \"Error: User business context not provided or is default. Please describe your business/industry in Step 4.\"\n",
        "    if not trend_information_text or trend_information_text.strip() == \"\" or \"No substantial trend information could be gathered\" in trend_information_text or \"Trend aggregation via Google Search is disabled\" in trend_information_text:\n",
        "        return \"Error: Insufficient trend information gathered. Cannot generate insights. Please check Step 5 outputs and ensure API keys are working.\"\n",
        "\n",
        "    prompt = f\"\"\"\n",
        "    You are an expert Market Analyst and Innovation Strategist.\n",
        "    Your task is to analyze a collection of aggregated text discussing market trends and, based on this information, provide insights relevant to a specific user-defined business context. You must then propose potential business pivots or innovation ideas for that context.\n",
        "\n",
        "    User's Business Context / Industry:\n",
        "    ---\n",
        "    {user_business_context}\n",
        "    ---\n",
        "\n",
        "    Aggregated Market Trend Information (based on web searches, snippets, and some fetched article content):\n",
        "    ======================================\n",
        "    {trend_information_text}\n",
        "    ======================================\n",
        "\n",
        "    Based *only* on the \"Aggregated Market Trend Information\" provided above, please generate the following:\n",
        "\n",
        "    1.  **Top {num_trends} Key Market Trends Summary:**\n",
        "        * Identify and concisely summarize {num_trends} distinct key market trends relevant to the user's business context.\n",
        "        * For each trend, briefly explain it and mention (if possible) what aspects of the provided information support this observation.\n",
        "\n",
        "    2.  **{num_proposals} Potential Pivot/Innovation Ideas for \"{user_business_context}\":**\n",
        "        * Based on the identified trends, propose {num_proposals} specific and actionable business pivot ideas or product/service innovations.\n",
        "        * For each idea:\n",
        "            * **Idea Title/Concept:**\n",
        "            * **Link to Trend(s):** Clearly state which identified trend(s) this idea leverages or responds to.\n",
        "            * **Description of Pivot/Innovation:** Explain the concept in detail.\n",
        "            * **Potential Value/Opportunity:** Why could this be valuable for a business in the user's context? What problem does it solve or what new value does it create?\n",
        "            * **Key Considerations/Initial Steps:** What are 1-2 critical things to consider or first steps to explore this idea?\n",
        "\n",
        "    Structure your response clearly with Markdown headings. Your analysis and proposals must be grounded in the provided trend information. Do not use external knowledge. If the provided information is sparse for certain aspects, acknowledge this.\n",
        "    \"\"\"\n",
        "\n",
        "    print(f\"\\n🤖 Analyzing trends and generating innovation proposals for '{user_business_context}' using {model_name}...\")\n",
        "    print(f\"   Summarizing up to {num_trends} trends and proposing up to {num_proposals} ideas.\")\n",
        "    print(\"This may take a significant amount of time...\")\n",
        "\n",
        "    try:\n",
        "        response = openai.chat.completions.create(\n",
        "            model=model_name,\n",
        "            messages=[\n",
        "                {\"role\": \"system\", \"content\": f\"You are an expert Market Analyst and Innovation Strategist. Your analysis is strictly based on the provided text.\"},\n",
        "                {\"role\": \"user\", \"content\": prompt}\n",
        "            ],\n",
        "            temperature=0.5, # Balance between factual summary and creative (but grounded) proposals\n",
        "            max_tokens=3800  # Allow for detailed output\n",
        "        )\n",
        "        analysis_report = response.choices[0].message.content\n",
        "        print(\"✅ Trend analysis and innovation proposals generated.\")\n",
        "        return analysis_report\n",
        "    except openai.APIError as e:\n",
        "        return f\"OpenAI API Error: {e}. Check your API key, model access, or usage limits.\"\n",
        "    except Exception as e:\n",
        "        return f\"An unexpected error occurred during LLM call: {e}\"\n",
        "\n",
        "# --- Main execution for this cell ---\n",
        "should_generate_insights = False\n",
        "error_msg_insights = \"\"\n",
        "\n",
        "if 'business_context' in globals() and business_context and business_context != \"e.g., Sustainable fashion retail\":\n",
        "    if 'aggregated_trend_text' in globals() and \\\n",
        "       aggregated_trend_text.strip() and \\\n",
        "       not (\"No substantial trend information could be gathered\" in aggregated_trend_text or \\\n",
        "            \"Trend aggregation via Google Search is disabled\" in aggregated_trend_text or \\\n",
        "            \"Business context not provided\" in aggregated_trend_text):\n",
        "        should_generate_insights = True\n",
        "    else:\n",
        "        error_msg_insights = \"⚠️ Insufficient trend information gathered in Step 5 (e.g., search failed, API keys missing, or no data found). Cannot generate insights.\"\n",
        "else:\n",
        "    error_msg_insights = \"⚠️ Business context not set in Step 4. Cannot generate insights.\"\n",
        "\n",
        "if should_generate_insights:\n",
        "    if openai.api_key:\n",
        "        trend_analysis_output = generate_trend_insights_and_proposals(\n",
        "            business_context,\n",
        "            aggregated_trend_text,\n",
        "            num_trends=num_trends_to_summarize,\n",
        "            num_proposals=num_ideas_to_propose,\n",
        "            model_name=llm_model_trends\n",
        "        )\n",
        "        if trend_analysis_output.startswith(\"Error:\"):\n",
        "            print(f\"\\n{trend_analysis_output}\")\n",
        "            display(Markdown(f\"**{trend_analysis_output}**\"))\n",
        "        else:\n",
        "            print(\"\\n--- Trend Insights & Innovation/Pivot Proposals ---\")\n",
        "            display(Markdown(trend_analysis_output))\n",
        "    else:\n",
        "        error_msg_insights = \"🛑 OpenAI API Key not configured. Please set it up in Step 3 to generate insights.\"\n",
        "        print(f\"\\n{error_msg_insights}\")\n",
        "        display(Markdown(f\"**{error_msg_insights}**\"))\n",
        "else:\n",
        "    print(f\"\\n{error_msg_insights}\") # Print the relevant error message\n",
        "    display(Markdown(f\"**{error_msg_insights}**\"))"
      ]
    }
  ]
}