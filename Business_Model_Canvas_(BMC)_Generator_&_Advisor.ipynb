{
  "nbformat": 4,
  "nbformat_minor": 0,
  "metadata": {
    "colab": {
      "provenance": [],
      "authorship_tag": "ABX9TyMJ0zgBbmjVN/7qvBwwNQ3C",
      "include_colab_link": true
    },
    "kernelspec": {
      "name": "python3",
      "display_name": "Python 3"
    },
    "language_info": {
      "name": "python"
    }
  },
  "cells": [
    {
      "cell_type": "markdown",
      "metadata": {
        "id": "view-in-github",
        "colab_type": "text"
      },
      "source": [
        "<a href=\"https://colab.research.google.com/github/adamstiefel/AI-Business-Agents/blob/main/Business_Model_Canvas_(BMC)_Generator_%26_Advisor.ipynb\" target=\"_parent\"><img src=\"https://colab.research.google.com/assets/colab-badge.svg\" alt=\"Open In Colab\"/></a>"
      ]
    },
    {
      "cell_type": "markdown",
      "source": [
        "# 💡 Business Model Canvas (BMC) Generator & Advisor 🚀\n",
        "\n",
        "## Goal\n",
        "To take a user's business concept as input, use a Large Language Model (LLM) to generate a structured Business Model Canvas (listing key hypotheses/ideas for each of the 9 blocks), and provide strategic recommendations.\n",
        "\n",
        "## How this \"Makes Money\" (Delivers Business Value)\n",
        "\n",
        "* 🚀 **Accelerate Ideation & Validation:** Quickly transforms a raw business idea into a structured model, helping founders, innovators, and product managers clarify their thinking and identify core components that need validation.\n",
        "* 🤔 **Framework for Strategic Thinking:** Provides a holistic view of the potential business, highlighting interdependencies, areas needing more thought, and potential gaps.\n",
        "* 🗣️ **Improve Pitching & Communication:** A fleshed-out BMC is a powerful and concise tool for communicating a business idea to potential investors, partners, team members, or stakeholders.\n",
        "* 🎯 **Identify Key Assumptions & Risks:** The process of generating the BMC helps uncover critical underlying assumptions that need to be tested and potential business model risks that need mitigation.\n",
        "* 📝 **Foundation for Business Planning:** Serves as a strong and quick starting point for developing a more detailed business plan, saving significant initial drafting time.\n",
        "* 💰 **Reduce Early-Stage \"Trial and Error\" Costs:** By thinking through the model components upfront, businesses can potentially avoid costly missteps and pivot more effectively.\n",
        "* ✨ **Spark Innovation & Exploration:** Can be used to quickly sketch out and compare different business model options for a single concept or explore new ventures.\n",
        "* 🤝 **Facilitate Team Alignment:** Provides a common framework for team members to discuss and align on the core aspects of a new business or product.\n",
        "\n",
        "---\n",
        "**Important Note:** This AI agent generates a *first-pass* Business Model Canvas and strategic suggestions based on the provided concept. The output should be seen as a **hypothesis-generation tool and a thought-starter**. It requires critical review, further research, validation, and refinement by experienced humans.\n",
        "---"
      ],
      "metadata": {
        "id": "upVAVWxtfoaq"
      }
    },
    {
      "cell_type": "code",
      "execution_count": 4,
      "metadata": {
        "colab": {
          "base_uri": "https://localhost:8080/"
        },
        "id": "qPwoUEtSflgi",
        "outputId": "474cef34-9ee4-4ca7-c7df-bc4732d73d7f"
      },
      "outputs": [
        {
          "output_type": "stream",
          "name": "stdout",
          "text": [
            "Libraries installed/available and imported.\n"
          ]
        }
      ],
      "source": [
        "#@title 2. Setup and Installations\n",
        "# --- Install necessary libraries ---\n",
        "!pip install openai -q\n",
        "\n",
        "import openai\n",
        "from IPython.display import display, Markdown # For formatted output\n",
        "import json # If we need to structure output more formally later\n",
        "\n",
        "print(\"Libraries installed/available and imported.\")"
      ]
    },
    {
      "cell_type": "code",
      "source": [
        "#@title 3. OpenAI API Key Configuration\n",
        "# --- Configure your OpenAI API Key ---\n",
        "# Recommended: Use Colab Secrets (Key icon on the left sidebar)\n",
        "# Add a secret named 'OPENAI_API_KEY' with your actual OpenAI API key.\n",
        "from google.colab import userdata\n",
        "\n",
        "OPENAI_API_KEY = None # Initialize\n",
        "try:\n",
        "    OPENAI_API_KEY = userdata.get('OPENAI_API_KEY')\n",
        "    if OPENAI_API_KEY:\n",
        "        openai.api_key = OPENAI_API_KEY\n",
        "        print(\"✅ OpenAI API Key loaded successfully from Colab Secrets.\")\n",
        "    else:\n",
        "        print(\"⚠️ OpenAI API Key not found in Colab Secrets. Please add it.\")\n",
        "        # Fallback for manual input if needed, though not recommended for shared notebooks\n",
        "        # OPENAI_API_KEY_MANUAL = \"\" # PASTE YOUR KEY HERE\n",
        "        # if OPENAI_API_KEY_MANUAL:\n",
        "        #    openai.api_key = OPENAI_API_KEY_MANUAL\n",
        "        #    OPENAI_API_KEY = OPENAI_API_KEY_MANUAL # Ensure global var is set\n",
        "        #    print(\"✅ OpenAI API Key set directly (less secure).\")\n",
        "        # else:\n",
        "        #    print(\"🛑 API Key not provided manually either.\")\n",
        "\n",
        "except Exception as e:\n",
        "    print(f\"⚠️ Error accessing Colab Secrets: {e}\")\n",
        "    print(\"Please ensure you have an OpenAI API key. You might need to set it manually if Colab Secrets are unavailable in your environment.\")\n",
        "\n",
        "if not openai.api_key: # Check if it was actually set\n",
        "    print(\"🛑 OpenAI API Key is NOT SET. LLM functionality will not work.\")"
      ],
      "metadata": {
        "colab": {
          "base_uri": "https://localhost:8080/"
        },
        "id": "7VXPvFz2fsxn",
        "outputId": "f3abe30f-51e9-47d0-9461-ffa24659da12"
      },
      "execution_count": 5,
      "outputs": [
        {
          "output_type": "stream",
          "name": "stdout",
          "text": [
            "✅ OpenAI API Key loaded successfully from Colab Secrets.\n"
          ]
        }
      ]
    },
    {
      "cell_type": "markdown",
      "source": [
        "## Quick Guide: The 9 Building Blocks of the Business Model Canvas\n",
        "\n",
        "The Business Model Canvas (BMC) helps you describe, design, challenge, and pivot your business model. This agent will attempt to generate ideas for each of these 9 blocks based on your concept:\n",
        "\n",
        "1.  **Customer Segments:** Who are your most important customers? What are their archetypes?\n",
        "2.  **Value Propositions:** What value do you deliver to the customer? Which customer problem are you solving, or which need are you satisfying? What is unique about your offering?\n",
        "3.  **Channels:** How do you reach your Customer Segments to deliver your Value Proposition? (e.g., sales force, web sales, own stores, partner stores, wholesale).\n",
        "4.  **Customer Relationships:** What type of relationship does each Customer Segment expect you to establish and maintain with them? (e.g., personal assistance, self-service, automated, community).\n",
        "5.  **Revenue Streams:** How do you generate cash from each Customer Segment? (e.g., asset sale, usage fee, subscription, licensing, advertising).\n",
        "6.  **Key Activities:** What are the most important things your company must *do* to make its business model work? (e.g., production, problem-solving, platform/network).\n",
        "7.  **Key Resources:** What are the most important *assets* required to make your business model work? (e.g., physical, intellectual, human, financial).\n",
        "8.  **Key Partners:** Who are the key partners and suppliers needed to make the business model work? (e.g., strategic alliances, joint ventures, buyer-supplier relationships).\n",
        "9.  **Cost Structure:** What are the most important costs incurred while operating under your business model? (Are you cost-driven or value-driven?)."
      ],
      "metadata": {
        "id": "W0LXP5XmgRvm"
      }
    },
    {
      "cell_type": "code",
      "source": [
        "#@title 5. Input: Describe Your Business Concept\n",
        "#@markdown Please provide a clear and concise description of your business idea or concept.\n",
        "#@markdown The more detail you provide about the problem you're solving, your proposed solution, target audience, and unique aspects, the better the generated BMC and recommendations will be.\n",
        "\n",
        "business_concept_input = \"\"\"\n",
        "Example: A subscription box service for artisanal coffee lovers. Each month, subscribers receive a curated selection of whole bean coffee from unique micro-roasters around the world, along with tasting notes and brewing tips. The service aims to help coffee enthusiasts discover new flavors and support small-batch roasters. We plan to build a strong online community.\n",
        "\"\"\" #@param {type:\"string\"}\n",
        "\n",
        "if not business_concept_input.strip() or \\\n",
        "   (\"Example: A subscription box service for artisanal coffee lovers.\" in business_concept_input and len(business_concept_input) < 250): # Basic check for default\n",
        "    print(\"⚠️ Please replace the example business concept with your own idea above.\")\n",
        "else:\n",
        "    print(\"✅ Business concept received.\")"
      ],
      "metadata": {
        "colab": {
          "base_uri": "https://localhost:8080/"
        },
        "id": "nNRV-n27fs_-",
        "outputId": "610d44c4-19a4-44d2-af66-cf3e5266dc95"
      },
      "execution_count": 6,
      "outputs": [
        {
          "output_type": "stream",
          "name": "stdout",
          "text": [
            "✅ Business concept received.\n"
          ]
        }
      ]
    },
    {
      "cell_type": "code",
      "source": [
        "#@title 6. Generate Business Model Canvas & Recommendations\n",
        "\n",
        "#@markdown Select the LLM model to use (GPT-4 class models are STRONGLY recommended for this complex task):\n",
        "llm_model_bmc = \"gpt-4-turbo-preview\" #@param [\"gpt-4-turbo-preview\", \"gpt-4\", \"gpt-3.5-turbo\"]\n",
        "#@markdown *Ensure your API key supports the selected model.*\n",
        "\n",
        "def generate_bmc_and_recommendations(concept, model_name=\"gpt-4-turbo-preview\"):\n",
        "    if not openai.api_key:\n",
        "        return \"Error: OpenAI API Key not set. Please configure it in Step 3.\"\n",
        "    if not concept or concept.strip() == \"\" or \\\n",
        "       (\"Example: A subscription box service for artisanal coffee lovers.\" in concept and len(concept) < 250) :\n",
        "        return \"Error: Please provide a valid and detailed business concept in Step 5.\"\n",
        "\n",
        "    prompt = f\"\"\"\n",
        "    You are an expert Business Strategist and Innovation Consultant.\n",
        "    Your task is to analyze the following business concept and generate a comprehensive Business Model Canvas (BMC) for it, followed by key strategic recommendations.\n",
        "\n",
        "    Business Concept:\n",
        "    ---\n",
        "    {concept}\n",
        "    ---\n",
        "\n",
        "    Please structure your output clearly using Markdown. For each of the 9 blocks of the Business Model Canvas, provide 3-5 key hypotheses or ideas based *only* on the provided concept. If information for a specific block is not directly derivable from the concept, make reasonable inferences or state what needs to be defined.\n",
        "\n",
        "    Output Format:\n",
        "\n",
        "    ## Business Model Canvas for: [Infer a name for the business concept if possible]\n",
        "\n",
        "    ### 1. Customer Segments\n",
        "    * [Hypothesis/Idea 1]\n",
        "    * [Hypothesis/Idea 2]\n",
        "    * ...\n",
        "\n",
        "    ### 2. Value Propositions\n",
        "    * [Hypothesis/Idea 1]\n",
        "    * [Hypothesis/Idea 2]\n",
        "    * ...\n",
        "\n",
        "    ### 3. Channels\n",
        "    * [Hypothesis/Idea 1]\n",
        "    * [Hypothesis/Idea 2]\n",
        "    * ...\n",
        "\n",
        "    ### 4. Customer Relationships\n",
        "    * [Hypothesis/Idea 1]\n",
        "    * [Hypothesis/Idea 2]\n",
        "    * ...\n",
        "\n",
        "    ### 5. Revenue Streams\n",
        "    * [Hypothesis/Idea 1]\n",
        "    * [Hypothesis/Idea 2]\n",
        "    * ...\n",
        "\n",
        "    ### 6. Key Activities\n",
        "    * [Hypothesis/Idea 1]\n",
        "    * [Hypothesis/Idea 2]\n",
        "    * ...\n",
        "\n",
        "    ### 7. Key Resources\n",
        "    * [Hypothesis/Idea 1]\n",
        "    * [Hypothesis/Idea 2]\n",
        "    * ...\n",
        "\n",
        "    ### 8. Key Partners\n",
        "    * [Hypothesis/Idea 1]\n",
        "    * [Hypothesis/Idea 2]\n",
        "    * ...\n",
        "\n",
        "    ### 9. Cost Structure\n",
        "    * [Hypothesis/Idea 1]\n",
        "    * [Hypothesis/Idea 2]\n",
        "    * ...\n",
        "\n",
        "    ## Strategic Recommendations\n",
        "    Based on the generated BMC and the initial concept, provide 3-5 key strategic recommendations. These could include:\n",
        "    * Critical assumptions to test first.\n",
        "    * Potential competitive advantages to build upon.\n",
        "    * Key risks to mitigate.\n",
        "    * Immediate next steps for developing the business model.\n",
        "    * [Recommendation 1 with brief justification]\n",
        "    * [Recommendation 2 with brief justification]\n",
        "    * ...\n",
        "\n",
        "    Be insightful, practical, and ensure your analysis is grounded in the provided business concept.\n",
        "    \"\"\"\n",
        "\n",
        "    print(f\"\\n🤖 Generating Business Model Canvas and Recommendations using {model_name}...\")\n",
        "    print(\"This may take a moment, especially with advanced models and detailed concepts...\")\n",
        "\n",
        "    try:\n",
        "        response = openai.chat.completions.create(\n",
        "            model=model_name,\n",
        "            messages=[\n",
        "                {\"role\": \"system\", \"content\": \"You are an expert Business Strategist helping to flesh out a new business concept into a Business Model Canvas and provide recommendations.\"},\n",
        "                {\"role\": \"user\", \"content\": prompt}\n",
        "            ],\n",
        "            temperature=0.6, # Slightly higher temperature for creative brainstorming within the BMC blocks\n",
        "            max_tokens=3000  # Allow for a detailed BMC and recommendations\n",
        "        )\n",
        "        bmc_report = response.choices[0].message.content\n",
        "        print(\"✅ Business Model Canvas and recommendations generated.\")\n",
        "        return bmc_report\n",
        "    except openai.APIError as e:\n",
        "        return f\"OpenAI API Error: {e}. Check your API key, model access, or usage limits.\"\n",
        "    except Exception as e:\n",
        "        return f\"An unexpected error occurred during LLM call: {e}\"\n",
        "\n",
        "# --- Main execution for this cell ---\n",
        "is_default_concept = \"Example: A subscription box service for artisanal coffee lovers.\" in business_concept_input and len(business_concept_input) < (len(\"Example: A subscription box service for artisanal coffee lovers.\") + 150)\n",
        "\n",
        "if 'business_concept_input' in globals() and business_concept_input.strip() and not is_default_concept:\n",
        "    if openai.api_key: # Check if API key is actually set\n",
        "        generated_bmc_report = generate_bmc_and_recommendations(\n",
        "            business_concept_input,\n",
        "            model_name=llm_model_bmc\n",
        "        )\n",
        "        if generated_bmc_report.startswith(\"Error:\"):\n",
        "            print(f\"\\n{generated_bmc_report}\")\n",
        "            display(Markdown(f\"**{generated_bmc_report}**\"))\n",
        "        else:\n",
        "            print(\"\\n--- Generated Business Model Canvas & Strategic Recommendations ---\")\n",
        "            display(Markdown(generated_bmc_report))\n",
        "    else:\n",
        "        error_message_bmc = \"🛑 OpenAI API Key not configured. Please set it up in Step 3.\"\n",
        "        print(f\"\\n{error_message_bmc}\")\n",
        "        display(Markdown(f\"**{error_message_bmc}**\"))\n",
        "else:\n",
        "    error_message_bmc = \"⚠️ Please provide your unique business concept in Step 5 before generating the BMC. The current input might be empty or too similar to the example.\"\n",
        "    print(f\"\\n{error_message_bmc}\")\n",
        "    display(Markdown(f\"**{error_message_bmc}**\"))"
      ],
      "metadata": {
        "colab": {
          "base_uri": "https://localhost:8080/",
          "height": 1000
        },
        "id": "nGcZtitZftH3",
        "outputId": "b2f4f716-a975-4a52-b1d8-b753d4bc700d"
      },
      "execution_count": 7,
      "outputs": [
        {
          "output_type": "stream",
          "name": "stdout",
          "text": [
            "\n",
            "🤖 Generating Business Model Canvas and Recommendations using gpt-4-turbo-preview...\n",
            "This may take a moment, especially with advanced models and detailed concepts...\n",
            "✅ Business Model Canvas and recommendations generated.\n",
            "\n",
            "--- Generated Business Model Canvas & Strategic Recommendations ---\n"
          ]
        },
        {
          "output_type": "display_data",
          "data": {
            "text/plain": [
              "<IPython.core.display.Markdown object>"
            ],
            "text/markdown": "## Business Model Canvas for: WorldCrafter Coffees\n\n### 1. Customer Segments\n* **Coffee enthusiasts** who value unique, high-quality brews and are willing to pay a premium.\n* **Supporters of small businesses** looking to support independent and micro-roasters.\n* **Gift buyers** seeking unique presents for coffee lovers in their lives.\n* **Subscription box collectors** who enjoy the surprise element and discovering new products.\n\n### 2. Value Propositions\n* **Exclusive access** to unique, artisanal coffee from around the world not easily found in stores.\n* **Educational content** including tasting notes and brewing tips to enhance the coffee experience.\n* **Support for small-batch roasters** by providing them with a wider audience.\n* **Community engagement** through an online platform for sharing experiences and recommendations.\n\n### 3. Channels\n* **E-commerce website** for subscriptions, customer service, and community engagement.\n* **Social media platforms** (Instagram, Facebook) to market the service, share customer experiences, and build the online community.\n* **Email newsletters** for personalized recommendations, brewing tips, and community highlights.\n\n### 4. Customer Relationships\n* **Personalized customer service** with coffee recommendations and brewing support.\n* **Community-driven content**, encouraging subscribers to share their tasting notes and brewing experiences.\n* **Exclusive events**, such as virtual tastings with roasters or brewing workshops.\n\n### 5. Revenue Streams\n* **Monthly subscription fees**, with options for different tiers based on quantity or exclusivity of coffee selections.\n* **Gift subscriptions** for single months or a full year.\n* **Affiliate sales** of brewing equipment or branded merchandise.\n\n### 6. Key Activities\n* **Curating coffee selections** from different micro-roasters each month.\n* **Creating educational and engaging content** for the subscribers.\n* **Building and maintaining the online community** and e-commerce platform.\n* **Managing relationships** with micro-roasters and logistics partners.\n\n### 7. Key Resources\n* **Relationships with micro-roasters** worldwide to ensure a diverse and high-quality selection.\n* **A robust e-commerce platform** that can handle subscriptions, community engagement, and content delivery.\n* **Content creation team** for producing educational and promotional materials.\n* **Logistics network** to manage global shipping efficiently.\n\n### 8. Key Partners\n* **Micro-roasters** for supplying artisanal coffee.\n* **Logistics companies** for handling shipping and fulfillment.\n* **Coffee equipment suppliers** for affiliate marketing or bundled sales.\n* **Coffee experts** or influencers for content creation and community engagement.\n\n### 9. Cost Structure\n* **Procurement of coffee** from micro-roasters, including shipping costs to the central facility.\n* **Shipping and handling costs** for sending out subscription boxes.\n* **Platform development and maintenance** including e-commerce and community features.\n* **Content creation and marketing expenses** to engage and grow the subscriber base.\n* **Customer service operations**, including staff and technology to support subscribers.\n\n## Strategic Recommendations\n\n1. **Validate the interest and purchasing power** of the target customer segments through market research and early sign-ups. This will ensure there's a viable market willing to pay for the proposed value propositions.\n   \n2. **Build relationships with micro-roasters** by highlighting the mutual benefits. For roasters, emphasize the exposure and sales opportunities. For WorldCrafter Coffees, ensure a steady supply of unique, quality products.\n\n3. **Leverage social proof and community engagement** as a competitive advantage. Encourage user-generated content, such as unboxing videos or brewing demonstrations, to foster a sense of community and trust in the brand.\n\n4. **Develop a robust logistics strategy** to manage the complexities of shipping fresh coffee worldwide. This includes negotiating favorable rates with logistics partners and ensuring compliance with international shipping regulations for food products.\n\n5. **Test different subscription tiers and offerings** early on to understand customer preferences. This could include variations in quantity, exclusivity of selections, or even options for ground versus whole bean coffee for different brewing preferences.\n\nBy focusing on these strategic areas, WorldCrafter Coffees can build a strong foundation for a successful subscription service that delights coffee enthusiasts and supports small-batch roasters globally."
          },
          "metadata": {}
        }
      ]
    },
    {
      "cell_type": "code",
      "source": [],
      "metadata": {
        "id": "5bE5vrkeftPF"
      },
      "execution_count": 7,
      "outputs": []
    },
    {
      "cell_type": "code",
      "source": [],
      "metadata": {
        "id": "0ttALPEWftVy"
      },
      "execution_count": 7,
      "outputs": []
    }
  ]
}