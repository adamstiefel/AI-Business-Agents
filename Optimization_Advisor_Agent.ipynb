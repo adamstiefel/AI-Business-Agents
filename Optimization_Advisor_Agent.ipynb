{
  "nbformat": 4,
  "nbformat_minor": 0,
  "metadata": {
    "colab": {
      "provenance": [],
      "authorship_tag": "ABX9TyNFIMN+2pXnO9j5cduWYgHu",
      "include_colab_link": true
    },
    "kernelspec": {
      "name": "python3",
      "display_name": "Python 3"
    },
    "language_info": {
      "name": "python"
    }
  },
  "cells": [
    {
      "cell_type": "markdown",
      "metadata": {
        "id": "view-in-github",
        "colab_type": "text"
      },
      "source": [
        "<a href=\"https://colab.research.google.com/github/adamstiefel/AI-Business-Agents/blob/main/Optimization_Advisor_Agent.ipynb\" target=\"_parent\"><img src=\"https://colab.research.google.com/assets/colab-badge.svg\" alt=\"Open In Colab\"/></a>"
      ]
    },
    {
      "cell_type": "markdown",
      "source": [
        "# 🧠💡 Optimization Advisor Agent 🚀\n",
        "\n",
        "**Leveraging AI to Suggest Process Redesigns with Lean, Six Sigma & RPA Insights**\n",
        "\n",
        "## What This Tool Does\n",
        "\n",
        "This Google Colab notebook implements an **Optimization Advisor Agent**. Given a textual description of a current business process, this agent uses a Large Language Model (LLM) to:\n",
        "\n",
        "1.  **Analyze** the provided process description.\n",
        "2.  **Identify** potential areas for improvement based on:\n",
        "    * **Lean Principles:** Focusing on eliminating waste (e.g., TIM WOODS: Transport, Inventory, Motion, Waiting, Overproduction, Over-processing, Defects).\n",
        "    * **Six Sigma Concepts:** Highlighting opportunities to reduce variation and defects (though this agent will focus more on qualitative suggestions unless quantitative data is provided).\n",
        "    * **Robotic Process Automation (RPA) Patterns:** Pinpointing repetitive, rules-based, manual tasks that are good candidates for automation.\n",
        "3.  **Suggest** concrete redesign ideas and optimization strategies.\n",
        "\n",
        "Think of this agent as an initial brainstorming partner or a virtual junior consultant that can provide a fresh perspective on your processes.\n",
        "\n",
        "## How This Delivers Business Value (The \"Makes Money\" Aspect)\n",
        "\n",
        "This agent helps organizations unlock significant value by identifying actionable improvements:\n",
        "\n",
        "* **💰 Direct Cost Reduction:** Lean suggestions target waste elimination (materials, time, effort), while RPA suggestions can drastically cut costs associated with manual labor for repetitive tasks.\n",
        "* 🚀 **Increased Throughput & Capacity:** Optimized processes can handle more work with existing resources, improving overall business capacity and revenue potential.\n",
        "* ✨ **Enhanced Quality & Customer Satisfaction:** Reducing process defects and variability (Six Sigma insights) leads to better product/service quality, less rework, and happier customers.\n",
        "* ⏱️ **Drastically Reduced Cycle Times:** Streamlining flow (Lean) and automating tasks (RPA) can significantly shorten the time from process start to finish.\n",
        "* 🧑‍💼 **Better Resource Utilization & Employee Engagement:** Automating mundane tasks frees up employees for more strategic, engaging, and higher-value work, improving morale and productivity.\n",
        "* 📈 **Data-Driven (Qualitative) Recommendations:** Provides structured suggestions based on established methodologies, offering a strong starting point for deeper analysis and business case development for changes.\n",
        "* 💡 **Innovation Catalyst:** Helps uncover \"hidden factory\" inefficiencies and sparks ideas for transformative process improvements.\n",
        "\n",
        "The suggestions provided will require human review, validation, and further analysis, but this agent can massively accelerate the initial stages of your process improvement journey."
      ],
      "metadata": {
        "id": "4KxYv9MNWJcD"
      }
    },
    {
      "cell_type": "code",
      "execution_count": 1,
      "metadata": {
        "colab": {
          "base_uri": "https://localhost:8080/"
        },
        "cellView": "form",
        "id": "NDVDRu4PWHp-",
        "outputId": "edac8d4d-a536-46e6-893d-75255185d11c"
      },
      "outputs": [
        {
          "output_type": "stream",
          "name": "stdout",
          "text": [
            "Libraries installed and imported.\n"
          ]
        }
      ],
      "source": [
        "#@title 2. Setup and Installations\n",
        "# --- Install necessary libraries ---\n",
        "!pip install openai -q\n",
        "\n",
        "import openai\n",
        "from IPython.display import display, Markdown # For formatted output\n",
        "\n",
        "print(\"Libraries installed and imported.\")"
      ]
    },
    {
      "cell_type": "code",
      "source": [
        "#@title 3. OpenAI API Key Configuration\n",
        "# --- Configure your OpenAI API Key ---\n",
        "# Recommended: Use Colab Secrets (Key icon on the left sidebar)\n",
        "# Add a secret named 'OPENAI_API_KEY' with your actual OpenAI API key.\n",
        "from google.colab import userdata\n",
        "\n",
        "try:\n",
        "    OPENAI_API_KEY = userdata.get('OPENAI_API_KEY')\n",
        "    if OPENAI_API_KEY:\n",
        "        openai.api_key = OPENAI_API_KEY\n",
        "        print(\"✅ OpenAI API Key loaded successfully from Colab Secrets.\")\n",
        "    else:\n",
        "        print(\"⚠️ OpenAI API Key not found in Colab Secrets. Please add it.\")\n",
        "        print(\"Alternatively, you can paste it directly below (less secure, not recommended for sharing):\")\n",
        "        # OPENAI_API_KEY_MANUAL = \"\" # PASTE YOUR KEY HERE IF NOT USING SECRETS\n",
        "        # if OPENAI_API_KEY_MANUAL:\n",
        "        #    openai.api_key = OPENAI_API_KEY_MANUAL\n",
        "        #    print(\"✅ OpenAI API Key set directly (less secure).\")\n",
        "        # else:\n",
        "        #    print(\"🛑 API Key not provided.\")\n",
        "\n",
        "except Exception as e:\n",
        "    print(f\"⚠️ Error accessing Colab Secrets: {e}\")\n",
        "    print(\"Please ensure you have an OpenAI API key. You might need to set it manually if Colab Secrets are unavailable in your environment.\")\n",
        "    OPENAI_API_KEY = None\n",
        "\n",
        "if not openai.api_key:\n",
        "    print(\"🛑 OpenAI API Key is NOT SET. LLM functionality will not work.\")"
      ],
      "metadata": {
        "colab": {
          "base_uri": "https://localhost:8080/"
        },
        "cellView": "form",
        "id": "6RrGAzYPWLrw",
        "outputId": "23242fa6-4c32-4339-8b88-2a6e757c21d5"
      },
      "execution_count": 2,
      "outputs": [
        {
          "output_type": "stream",
          "name": "stdout",
          "text": [
            "✅ OpenAI API Key loaded successfully from Colab Secrets.\n"
          ]
        }
      ]
    },
    {
      "cell_type": "markdown",
      "source": [
        "## Quick Guide to Optimization Lenses\n",
        "\n",
        "This agent will analyze your process through these common improvement methodologies:\n",
        "\n",
        "### Lean Principles (Focus: Eliminating Waste)\n",
        "Lean aims to maximize customer value while minimizing waste. Common wastes (often remembered by the acronym **TIM WOODS (or DOWNTIME)**) include:\n",
        "* **T**ransport: Unnecessary movement of materials, information, or people.\n",
        "* **I**nventory: Excess products, materials, or information waiting to be processed.\n",
        "* **M**otion: Unnecessary movement by people (e.g., reaching for tools, walking).\n",
        "* **W**aiting: Idle time for people, equipment, or information.\n",
        "* **O**verproduction: Producing more than needed, sooner than needed, or faster than needed.\n",
        "* **O**ver-processing: Doing more work than necessary to meet customer requirements (e.g., excessive approvals, redundant checks).\n",
        "* **D**efects: Products or services that are out of spec, requiring rework or scrapping.\n",
        "* **(S)kills Unused (Non-Utilized Talent):** Failing to use the knowledge, skills, and creativity of employees.\n",
        "\n",
        "### Six Sigma (Focus: Reducing Variation & Defects)\n",
        "While this agent focuses on qualitative suggestions, Six Sigma's core idea is to reduce process variation and defects to improve quality and consistency. Key concepts include:\n",
        "* **DMAIC Cycle:** Define, Measure, Analyze, Improve, Control.\n",
        "* Focus on data-driven decisions to identify root causes of problems.\n",
        "\n",
        "### Robotic Process Automation (RPA) (Focus: Automating Repetitive Tasks)\n",
        "RPA is ideal for tasks that are:\n",
        "* **Repetitive and High-Volume:** Performed many times.\n",
        "* **Rules-Based:** Follow clear, predefined rules with few exceptions.\n",
        "* **Digital Data Input:** Involve interaction with digital systems (reading from screens, typing, using mouse).\n",
        "* **Prone to Human Error:** Tedious tasks where humans might make mistakes.\n",
        "* **Stable Processes:** The underlying process doesn't change too frequently.\n",
        "\n",
        "    *Examples: Data entry, data migration, form filling, report generation, reconciliations, system integrations (basic).*"
      ],
      "metadata": {
        "id": "LCgRWBrkW5u6"
      }
    },
    {
      "cell_type": "code",
      "source": [
        "#@title 5. Input: Describe Your Current Process\n",
        "#@markdown Please provide a detailed description of the business process you want to optimize.\n",
        "#@markdown The more detail you provide, the better the suggestions will be.\n",
        "#@markdown Consider including:\n",
        "#@markdown - The overall goal of the process.\n",
        "#@markdown - Key steps in sequence.\n",
        "#@markdown - Roles involved (who does what).\n",
        "#@markdown - Systems or tools used.\n",
        "#@markdown - Any known pain points, delays, or areas of concern.\n",
        "#@markdown - Input and output of the process.\n",
        "#@markdown - Any existing metrics or KPIs (if available, though not strictly required for this qualitative advisor).\n",
        "\n",
        "process_description_input = \"\"\"\n",
        "Example: Customer Order Fulfillment Process\n",
        "\n",
        "Goal: To process customer orders accurately and ship products efficiently.\n",
        "\n",
        "Steps:\n",
        "1. Order is received via online portal (System: E-commerce Platform). Data Entry Clerk manually re-enters order details into ERP.\n",
        "2. Inventory Check: Warehouse staff manually checks stock levels in a spreadsheet for each item. If item out of stock, customer is emailed manually (takes 1-2 days for notification).\n",
        "3. Payment Processing: Finance team receives a daily batch of orders and manually processes payments through a separate payment gateway. Reconciles with ERP at end of day.\n",
        "4. Order Picking: Warehouse staff picks items based on a printed pick list.\n",
        "5. Order Packing: Items are packed, and a shipping label is manually generated by copying address details into a courier's web portal.\n",
        "6. Shipping: Courier picks up packed orders. Tracking number is manually emailed to customer by customer service.\n",
        "7. Post-Shipment: Customer service handles any inquiries regarding order status, often by checking multiple systems.\n",
        "\n",
        "Known Pain Points: Data entry errors from manual input, delays in out-of-stock notifications, delays in payment processing affecting picking, time spent on manual label generation and tracking updates, customer complaints about slow status updates.\n",
        "\"\"\" #@param {type:\"string\"}\n",
        "\n",
        "if not process_description_input.strip() or process_description_input.strip() == \"Example: Customer Order Fulfillment Process...\": # A more robust check for default\n",
        "    print(\"⚠️ Please replace the example process description with your own process details above.\")\n",
        "else:\n",
        "    print(\"✅ Process description received.\")"
      ],
      "metadata": {
        "colab": {
          "base_uri": "https://localhost:8080/"
        },
        "id": "sMm7O1UNWy0O",
        "outputId": "bf196e55-d716-4d08-b3a3-f1007433e8f1"
      },
      "execution_count": 4,
      "outputs": [
        {
          "output_type": "stream",
          "name": "stdout",
          "text": [
            "✅ Process description received.\n"
          ]
        }
      ]
    },
    {
      "cell_type": "code",
      "source": [
        "#@title 6. Generate Optimization Suggestions\n",
        "\n",
        "#@markdown Select the LLM model to use (GPT-4 class models are highly recommended for this complex task):\n",
        "llm_model_advisor = \"gpt-4-turbo-preview\" #@param [\"gpt-4-turbo-preview\", \"gpt-4\", \"gpt-3.5-turbo\"]\n",
        "#@markdown ---\n",
        "#@markdown Focus of Advice (select multiple if desired, will be combined in prompt):\n",
        "focus_lean = True #@param {type:\"boolean\"}\n",
        "focus_rpa = True #@param {type:\"boolean\"}\n",
        "focus_six_sigma_qualitative = True #@param {type:\"boolean\"}\n",
        "\n",
        "\n",
        "def get_optimization_suggestions(process_description, model_name=\"gpt-4-turbo-preview\", lean=True, rpa=True, six_sigma=True):\n",
        "    if not openai.api_key:\n",
        "        return \"Error: OpenAI API Key not set. Please configure it in Step 3.\"\n",
        "    # A more robust check for the default/empty process description\n",
        "    if not process_description or process_description.strip() == \"\" or \\\n",
        "       (\"Example: Customer Order Fulfillment Process\" in process_description and len(process_description) < 300): # Check if it's very close to default\n",
        "        return \"Error: Please provide a valid and detailed process description in Step 5 before generating suggestions.\"\n",
        "\n",
        "    focus_areas = []\n",
        "    if lean:\n",
        "        focus_areas.append(\"Lean principles (especially identifying the 7 wastes - TIM WOODS: Transport, Inventory, Motion, Waiting, Overproduction, Over-processing, Defects, and opportunities for flow/pull systems)\")\n",
        "    if rpa:\n",
        "        focus_areas.append(\"Robotic Process Automation (RPA) suitability (identifying repetitive, rules-based, digital tasks for automation)\")\n",
        "    if six_sigma:\n",
        "        focus_areas.append(\"qualitative Six Sigma opportunities (reducing chances for errors, improving consistency, standardizing work - without requiring statistical data input here)\")\n",
        "\n",
        "    if not focus_areas:\n",
        "        return \"Error: Please select at least one focus area for advice (Lean, RPA, Six Sigma).\"\n",
        "\n",
        "    # Constructing the focus_prompt_segment more robustly\n",
        "    if len(focus_areas) == 1:\n",
        "        focus_prompt_segment = focus_areas[0]\n",
        "    elif len(focus_areas) == 2:\n",
        "        focus_prompt_segment = focus_areas[0] + \" and \" + focus_areas[1]\n",
        "    else: # More than 2\n",
        "        focus_prompt_segment = \", \".join(focus_areas[:-1]) + \", and \" + focus_areas[-1]\n",
        "\n",
        "\n",
        "    prompt = f\"\"\"\n",
        "    You are an expert Process Optimization Advisor with deep knowledge in Lean methodologies, Six Sigma principles, and Robotic Process Automation (RPA).\n",
        "    Your task is to analyze the following business process description and provide actionable suggestions for redesign and optimization.\n",
        "\n",
        "    Current Process Description:\n",
        "    ---\n",
        "    {process_description}\n",
        "    ---\n",
        "\n",
        "    Please provide your analysis and suggestions structured as follows:\n",
        "    1.  **Overall Process Summary & Key Observations:** Briefly summarize your understanding of the process and any immediate high-level observations or concerns.\n",
        "    2.  **Optimization Opportunities & Suggestions (focused on {focus_prompt_segment}):**\n",
        "        * For each identified opportunity, clearly state:\n",
        "            * **The Issue/Opportunity:** What specific part of the process or problem are you addressing?\n",
        "            * **Principle/Pattern:** Which Lean waste, RPA pattern, or Six Sigma concept does this relate to?\n",
        "            * **Suggested Redesign/Action:** What specific change or action do you recommend? Explain how this would improve the process.\n",
        "            * **Expected Benefits:** What are the likely positive outcomes (e.g., reduced time, lower cost, improved quality, better employee experience)?\n",
        "    3.  **Potential RPA Candidates (if RPA focus is selected and applicable):** List specific tasks that seem suitable for RPA, explaining why.\n",
        "    4.  **General Recommendations & Next Steps:** Any overarching advice or suggested next steps for the organization to consider.\n",
        "\n",
        "    Be specific, practical, and explain your reasoning clearly. Assume the goal is to make the process more efficient, cost-effective, and robust.\n",
        "    \"\"\"\n",
        "\n",
        "    print(f\"\\n🤖 Requesting optimization advice from {model_name} based on selected focus areas...\")\n",
        "    print(\"This may take a moment, especially with more advanced models and detailed descriptions...\")\n",
        "\n",
        "    try:\n",
        "        response = openai.chat.completions.create(\n",
        "            model=model_name, # The API call itself uses 'model'\n",
        "            messages=[\n",
        "                {\"role\": \"system\", \"content\": \"You are an expert Process Optimization Advisor.\"},\n",
        "                {\"role\": \"user\", \"content\": prompt}\n",
        "            ],\n",
        "            temperature=0.5,\n",
        "            max_tokens=2500\n",
        "        )\n",
        "        suggestions = response.choices[0].message.content\n",
        "        print(\"✅ Optimization suggestions received.\")\n",
        "        return suggestions\n",
        "    except openai.APIError as e: # Specific OpenAI errors\n",
        "        return f\"OpenAI API Error: {e}\"\n",
        "    except Exception as e: # Other potential errors\n",
        "        return f\"An unexpected error occurred: {e}\"\n",
        "\n",
        "# --- Main execution for this cell ---\n",
        "# More robust check for empty/default process_description_input\n",
        "is_default_description = \"Example: Customer Order Fulfillment Process\" in process_description_input and len(process_description_input) < (len(\"Example: Customer Order Fulfillment Process...\") + 100) # Check if it's very similar to default\n",
        "\n",
        "if 'process_description_input' in globals() and process_description_input.strip() and not is_default_description:\n",
        "    if openai.api_key: # Check if API key is actually set\n",
        "        optimization_advice = get_optimization_suggestions(\n",
        "            process_description_input,\n",
        "            model_name=llm_model_advisor,  # <-- CORRECTED HERE\n",
        "            lean=focus_lean,\n",
        "            rpa=focus_rpa,\n",
        "            six_sigma=focus_six_sigma_qualitative\n",
        "        )\n",
        "        if optimization_advice.startswith(\"Error:\"):\n",
        "            print(f\"\\n⚠️ {optimization_advice}\")\n",
        "            display(Markdown(f\"**Error:** {optimization_advice}\")) # Display error in markdown too\n",
        "        else:\n",
        "            print(\"\\n--- Optimization Advisor's Report ---\")\n",
        "            display(Markdown(optimization_advice))\n",
        "    else:\n",
        "        error_message = \"🛑 OpenAI API Key not configured. Please set it up in Step 3.\"\n",
        "        print(f\"\\n{error_message}\")\n",
        "        display(Markdown(f\"**{error_message}**\"))\n",
        "else:\n",
        "    error_message = \"⚠️ Please provide a detailed and unique process description in Step 5 before generating suggestions. The current input might be empty or too similar to the example.\"\n",
        "    print(f\"\\n{error_message}\")\n",
        "    display(Markdown(f\"**{error_message}**\"))"
      ],
      "metadata": {
        "colab": {
          "base_uri": "https://localhost:8080/",
          "height": 1000
        },
        "id": "4U6DFtXLXRo3",
        "outputId": "a4742afa-a879-47cc-df99-e5f0279c65b8"
      },
      "execution_count": 6,
      "outputs": [
        {
          "output_type": "stream",
          "name": "stdout",
          "text": [
            "\n",
            "🤖 Requesting optimization advice from gpt-4-turbo-preview based on selected focus areas...\n",
            "This may take a moment, especially with more advanced models and detailed descriptions...\n",
            "✅ Optimization suggestions received.\n",
            "\n",
            "--- Optimization Advisor's Report ---\n"
          ]
        },
        {
          "output_type": "display_data",
          "data": {
            "text/plain": [
              "<IPython.core.display.Markdown object>"
            ],
            "text/markdown": "### 1. **Overall Process Summary & Key Observations:**\n\nThe customer order fulfillment process involves several manual steps from order receipt to shipping, including manual data entry, inventory checks, payment processing, and shipping label generation. Key observations highlight significant manual intervention leading to data entry errors, delays in notifying customers about stock levels, inefficiencies in payment processing, and overall delays in order fulfillment. These manual processes contribute to increased lead times, potential for errors, and customer dissatisfaction.\n\n### 2. **Optimization Opportunities & Suggestions:**\n\n#### **Order Entry & ERP Integration:**\n- **The Issue/Opportunity:** Manual re-entry of order details into the ERP system.\n- **Principle/Pattern:** Defects, Over-processing.\n- **Suggested Redesign/Action:** Implement an integration between the e-commerce platform and the ERP system to automate order entry. Use API or middleware solutions for real-time data synchronization.\n- **Expected Benefits:** Reduces data entry errors, accelerates order processing, and improves accuracy.\n\n#### **Inventory Check Automation:**\n- **The Issue/Opportunity:** Manual inventory checks and customer notifications.\n- **Principle/Pattern:** Waiting, Motion.\n- **Suggested Redesign/Action:** Automate inventory checks using the ERP system. Implement an automated notification system for out-of-stock items directly from the ERP.\n- **Expected Benefits:** Decreases waiting time for inventory checks, speeds up customer notifications, and reduces manual labor.\n\n#### **Payment Processing Efficiency:**\n- **The Issue/Opportunity:** Batch processing of payments and manual reconciliation.\n- **Principle/Pattern:** Waiting, Over-processing.\n- **Suggested Redesign/Action:** Automate payment processing with real-time integration between the e-commerce platform and payment gateway. Automate reconciliation in the ERP system.\n- **Expected Benefits:** Reduces delays in order processing, minimizes manual reconciliation efforts, and accelerates cash flow.\n\n#### **Digital Pick Lists & Packing Optimization:**\n- **The Issue/Opportunity:** Use of printed pick lists and manual shipping label generation.\n- **Principle/Pattern:** Motion, Over-processing.\n- **Suggested Redesign/Action:** Implement digital pick lists accessible via tablets or handheld devices. Automate shipping label generation directly from the ERP system.\n- **Expected Benefits:** Reduces paper usage, minimizes walking and searching time, and speeds up packing and shipping processes.\n\n### 3. **Potential RPA Candidates:**\n\n- **Order Details to ERP Entry:** Suitable due to its repetitive, rule-based nature and digital format.\n- **Automated Inventory Level Checks:** Ideal for RPA as it involves querying a database and applying rules to determine stock levels.\n- **Payment Processing & Reconciliation:** These tasks are repetitive, rule-based, and involve digital data, making them perfect for RPA.\n- **Shipping Label Generation:** Involves accessing customer address details and generating labels, a repetitive and rules-based task suitable for RPA.\n\n### 4. **General Recommendations & Next Steps:**\n\n- **Conduct a Process Mapping Session:** To fully understand current state processes and identify all inefficiencies not immediately apparent.\n- **Prioritize Quick Wins:** Focus initially on implementing RPA for high-volume, repetitive tasks such as data entry and payment processing.\n- **Invest in Integration Technologies:** To facilitate seamless data flow between the e-commerce platform, ERP, and payment systems.\n- **Lean Training for Staff:** Equip employees with Lean thinking principles to continuously identify and eliminate waste in their daily tasks.\n- **Monitor and Adjust:** Implement KPIs to monitor the impact of changes and be prepared to iterate based on results.\n\nBy addressing these areas, the organization can expect to see reduced processing times, lower operational costs, fewer errors, and improved customer satisfaction. The focus should be on creating a streamlined, automated process that reduces manual intervention and leverages technology to enhance efficiency and accuracy."
          },
          "metadata": {}
        }
      ]
    },
    {
      "cell_type": "code",
      "source": [],
      "metadata": {
        "id": "QdClQG2-XRrc"
      },
      "execution_count": null,
      "outputs": []
    }
  ]
}